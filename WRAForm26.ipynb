{
 "cells": [
  {
   "cell_type": "markdown",
   "metadata": {},
   "source": [
    "# Exploring Data from WRA Form 26\n",
    "The first dataset that we will examine is the data that comes from a record created (Form 26) by the War Relocation Authority (WRA) at the beginning of the Japanese American internment. This are records of individual and family \"evacuations\" to internment camps. The file [WRAForm26.csv](WRAForm26.csv) was supplied by [Densho](http://densho.org), and organization dedicated to \"preserving, educating, and sharing the story of World War II-era incarceration of Japanese Americans\".\n",
    "\n",
    "Our first step in exploring this data is to load the file into a Pandas data frame."
   ]
  },
  {
   "cell_type": "code",
   "execution_count": 19,
   "metadata": {},
   "outputs": [],
   "source": [
    "# Loading the Data\n",
    "import pandas as pd\n",
    "\n",
    "# Read the CSV file into a Pandas data frame:\n",
    "data_Form26 = pd.read_csv(\"WRAForm26.csv\")"
   ]
  },
  {
   "cell_type": "markdown",
   "metadata": {},
   "source": [
    "Now that the data is loaded, the code below will show you the first three rows of index card data, as printed out by the Pandas head() function."
   ]
  },
  {
   "cell_type": "code",
   "execution_count": 20,
   "metadata": {},
   "outputs": [
    {
     "data": {
      "text/html": [
       "<div>\n",
       "<style scoped>\n",
       "    .dataframe tbody tr th:only-of-type {\n",
       "        vertical-align: middle;\n",
       "    }\n",
       "\n",
       "    .dataframe tbody tr th {\n",
       "        vertical-align: top;\n",
       "    }\n",
       "\n",
       "    .dataframe thead th {\n",
       "        text-align: right;\n",
       "    }\n",
       "</style>\n",
       "<table border=\"1\" class=\"dataframe\">\n",
       "  <thead>\n",
       "    <tr style=\"text-align: right;\">\n",
       "      <th></th>\n",
       "      <th>LastName</th>\n",
       "      <th>FirstName</th>\n",
       "      <th>BirthYear</th>\n",
       "    </tr>\n",
       "  </thead>\n",
       "  <tbody>\n",
       "    <tr>\n",
       "      <th>0</th>\n",
       "      <td>AANAGAWA</td>\n",
       "      <td>MARY</td>\n",
       "      <td>1927</td>\n",
       "    </tr>\n",
       "    <tr>\n",
       "      <th>1</th>\n",
       "      <td>AAWATO</td>\n",
       "      <td>HISAKICH</td>\n",
       "      <td>1889</td>\n",
       "    </tr>\n",
       "    <tr>\n",
       "      <th>2</th>\n",
       "      <td>ABBEY</td>\n",
       "      <td>ROY</td>\n",
       "      <td>1905</td>\n",
       "    </tr>\n",
       "  </tbody>\n",
       "</table>\n",
       "</div>"
      ],
      "text/plain": [
       "   LastName FirstName  BirthYear\n",
       "0  AANAGAWA      MARY       1927\n",
       "1    AAWATO  HISAKICH       1889\n",
       "2     ABBEY       ROY       1905"
      ]
     },
     "execution_count": 20,
     "metadata": {},
     "output_type": "execute_result"
    }
   ],
   "source": [
    "# Show the first three rows\n",
    "data_Form26.head(3)"
   ]
  },
  {
   "cell_type": "markdown",
   "metadata": {},
   "source": [
    "Next we call a few other Pandas Data Frame functions. For more information about Pandas data frames, see the documentation:\n",
    "* https://pandas.pydata.org/pandas-docs/stable/reference/frame.html"
   ]
  },
  {
   "cell_type": "code",
   "execution_count": 21,
   "metadata": {},
   "outputs": [
    {
     "data": {
      "text/html": [
       "<div>\n",
       "<style scoped>\n",
       "    .dataframe tbody tr th:only-of-type {\n",
       "        vertical-align: middle;\n",
       "    }\n",
       "\n",
       "    .dataframe tbody tr th {\n",
       "        vertical-align: top;\n",
       "    }\n",
       "\n",
       "    .dataframe thead th {\n",
       "        text-align: right;\n",
       "    }\n",
       "</style>\n",
       "<table border=\"1\" class=\"dataframe\">\n",
       "  <thead>\n",
       "    <tr style=\"text-align: right;\">\n",
       "      <th></th>\n",
       "      <th>BirthYear</th>\n",
       "    </tr>\n",
       "  </thead>\n",
       "  <tbody>\n",
       "    <tr>\n",
       "      <th>count</th>\n",
       "      <td>109192.000000</td>\n",
       "    </tr>\n",
       "    <tr>\n",
       "      <th>mean</th>\n",
       "      <td>1912.535131</td>\n",
       "    </tr>\n",
       "    <tr>\n",
       "      <th>std</th>\n",
       "      <td>18.914068</td>\n",
       "    </tr>\n",
       "    <tr>\n",
       "      <th>min</th>\n",
       "      <td>1851.000000</td>\n",
       "    </tr>\n",
       "    <tr>\n",
       "      <th>25%</th>\n",
       "      <td>1897.000000</td>\n",
       "    </tr>\n",
       "    <tr>\n",
       "      <th>50%</th>\n",
       "      <td>1918.000000</td>\n",
       "    </tr>\n",
       "    <tr>\n",
       "      <th>75%</th>\n",
       "      <td>1926.000000</td>\n",
       "    </tr>\n",
       "    <tr>\n",
       "      <th>max</th>\n",
       "      <td>1946.000000</td>\n",
       "    </tr>\n",
       "  </tbody>\n",
       "</table>\n",
       "</div>"
      ],
      "text/plain": [
       "           BirthYear\n",
       "count  109192.000000\n",
       "mean     1912.535131\n",
       "std        18.914068\n",
       "min      1851.000000\n",
       "25%      1897.000000\n",
       "50%      1918.000000\n",
       "75%      1926.000000\n",
       "max      1946.000000"
      ]
     },
     "execution_count": 21,
     "metadata": {},
     "output_type": "execute_result"
    }
   ],
   "source": [
    "data_Form26.describe()  # basic numeric and object stats"
   ]
  },
  {
   "cell_type": "code",
   "execution_count": 22,
   "metadata": {},
   "outputs": [
    {
     "data": {
      "text/plain": [
       "2"
      ]
     },
     "execution_count": 22,
     "metadata": {},
     "output_type": "execute_result"
    }
   ],
   "source": [
    "data_Form26.ndim  # how many dimensions are there?"
   ]
  },
  {
   "cell_type": "code",
   "execution_count": 23,
   "metadata": {},
   "outputs": [
    {
     "data": {
      "text/plain": [
       "(109192, 3)"
      ]
     },
     "execution_count": 23,
     "metadata": {},
     "output_type": "execute_result"
    }
   ],
   "source": [
    "data_Form26.shape  # how many row and columns are there? (length in each dimension)"
   ]
  },
  {
   "cell_type": "code",
   "execution_count": 24,
   "metadata": {},
   "outputs": [
    {
     "data": {
      "text/plain": [
       "LastName     object\n",
       "FirstName    object\n",
       "BirthYear     int64\n",
       "dtype: object"
      ]
     },
     "execution_count": 24,
     "metadata": {},
     "output_type": "execute_result"
    }
   ],
   "source": [
    "data_Form26.dtypes  # what data types are detected in each column?"
   ]
  },
  {
   "cell_type": "markdown",
   "metadata": {},
   "source": [
    "You can also summarize the data from individual columns, like this:"
   ]
  },
  {
   "cell_type": "code",
   "execution_count": 25,
   "metadata": {},
   "outputs": [
    {
     "data": {
      "text/plain": [
       "1921    3847\n",
       "1923    3507\n",
       "1922    3486\n",
       "1920    3274\n",
       "1924    3100\n",
       "1925    3088\n",
       "1926    2732\n",
       "1919    2701\n",
       "1927    2428\n",
       "1918    2397\n",
       "1917    2251\n",
       "1928    2242\n",
       "1916    2098\n",
       "1915    2095\n",
       "1929    2012\n",
       "1930    1856\n",
       "1942    1779\n",
       "1914    1761\n",
       "1931    1760\n",
       "1941    1729\n",
       "1932    1665\n",
       "1888    1600\n",
       "1940    1566\n",
       "1913    1545\n",
       "1939    1521\n",
       "1938    1507\n",
       "1934    1502\n",
       "1900    1484\n",
       "1933    1445\n",
       "1937    1442\n",
       "        ... \n",
       "1907     837\n",
       "1909     813\n",
       "1908     805\n",
       "1876     672\n",
       "1875     569\n",
       "1874     414\n",
       "1873     348\n",
       "1872     311\n",
       "1871     203\n",
       "1870     169\n",
       "1869     153\n",
       "1868     105\n",
       "1867     101\n",
       "1866      64\n",
       "1865      54\n",
       "1864      38\n",
       "1863      18\n",
       "1861      15\n",
       "1859      13\n",
       "1862      11\n",
       "1860       9\n",
       "1857       6\n",
       "1856       5\n",
       "1858       3\n",
       "1852       3\n",
       "1854       2\n",
       "1855       1\n",
       "1851       1\n",
       "1946       1\n",
       "1943       1\n",
       "Name: BirthYear, Length: 93, dtype: int64"
      ]
     },
     "execution_count": 25,
     "metadata": {},
     "output_type": "execute_result"
    }
   ],
   "source": [
    "data_Form26['BirthYear'].value_counts()  # Counts for each distinct value in \"Year\" column"
   ]
  },
  {
   "cell_type": "code",
   "execution_count": 26,
   "metadata": {},
   "outputs": [
    {
     "data": {
      "text/html": [
       "<div>\n",
       "<style scoped>\n",
       "    .dataframe tbody tr th:only-of-type {\n",
       "        vertical-align: middle;\n",
       "    }\n",
       "\n",
       "    .dataframe tbody tr th {\n",
       "        vertical-align: top;\n",
       "    }\n",
       "\n",
       "    .dataframe thead th {\n",
       "        text-align: right;\n",
       "    }\n",
       "</style>\n",
       "<table border=\"1\" class=\"dataframe\">\n",
       "  <thead>\n",
       "    <tr style=\"text-align: right;\">\n",
       "      <th></th>\n",
       "      <th>LastName</th>\n",
       "      <th>FirstName</th>\n",
       "      <th>BirthYear</th>\n",
       "    </tr>\n",
       "  </thead>\n",
       "  <tbody>\n",
       "    <tr>\n",
       "      <th>109189</th>\n",
       "      <td>ZORIKI</td>\n",
       "      <td>MIKE</td>\n",
       "      <td>1922</td>\n",
       "    </tr>\n",
       "    <tr>\n",
       "      <th>109190</th>\n",
       "      <td>ZORIKI</td>\n",
       "      <td>JUDY</td>\n",
       "      <td>1942</td>\n",
       "    </tr>\n",
       "    <tr>\n",
       "      <th>109191</th>\n",
       "      <td>ZUICHO</td>\n",
       "      <td>FUMIO</td>\n",
       "      <td>1887</td>\n",
       "    </tr>\n",
       "  </tbody>\n",
       "</table>\n",
       "</div>"
      ],
      "text/plain": [
       "       LastName FirstName  BirthYear\n",
       "109189   ZORIKI      MIKE       1922\n",
       "109190   ZORIKI      JUDY       1942\n",
       "109191   ZUICHO     FUMIO       1887"
      ]
     },
     "execution_count": 26,
     "metadata": {},
     "output_type": "execute_result"
    }
   ],
   "source": [
    "data_Form26.tail(3)  # tail(3) is the opposite of head(3) and shows the last 3 rows"
   ]
  },
  {
   "cell_type": "markdown",
   "metadata": {},
   "source": [
    "### My Dataset Notes (WRA Form 26)\n",
    "\n",
    "(This area provided for you to record your own notes on the dataset.)"
   ]
  },
  {
   "cell_type": "code",
   "execution_count": 18,
   "metadata": {},
   "outputs": [],
   "source": [
    "# Add your code here and create more cells if needed..\n",
    "\n",
    "# Hint: Your first step is to load the FAR CSV file into another data frame."
   ]
  },
  {
   "cell_type": "markdown",
   "metadata": {},
   "source": [
    "### My Dataset Notes (FAR)\n",
    "\n",
    "(your notes)"
   ]
  }
 ],
 "metadata": {
  "kernelspec": {
   "display_name": "Python 3",
   "language": "python",
   "name": "python3"
  },
  "language_info": {
   "codemirror_mode": {
    "name": "ipython",
    "version": 3
   },
   "file_extension": ".py",
   "mimetype": "text/x-python",
   "name": "python",
   "nbconvert_exporter": "python",
   "pygments_lexer": "ipython3",
   "version": "3.6.5"
  }
 },
 "nbformat": 4,
 "nbformat_minor": 2
}
