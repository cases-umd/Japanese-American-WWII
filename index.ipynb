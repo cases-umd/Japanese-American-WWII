{
 "cells": [
  {
   "cell_type": "markdown",
   "metadata": {},
   "source": [
    "# Japanese American WWII CASE Module\n",
    "### Revisiting Segregation through Computational History: the Case of the WWII Japanese American Tule Lake Segregation Center\n",
    "* Contributors: Richard Marciano and Greg Jansen\n",
    "* Source Available: https://github.com/cases-umd/Japanese-American-WWII\n",
    "* License: [Creative Commons - Attribute 4.0 Intl](https://creativecommons.org/licenses/by/4.0/)\n",
    "* [Lesson Plan for Instructors](./lesson-plan.ipynb)\n",
    "* Related Publications: \n",
    " * [Automating the Detection of Personally Identifiable Information (PII) in Japanese-American WWII Incarceration Camp Records](https://dcicblog.umd.edu/ComputationFrameworkForArchivalEducation/wp-content/uploads/sites/20/2019/01/pii_paper.pdf)\n",
    "* More Information:\n",
    " * [Project Blog](https://dcicblog.umd.edu/Japanese-AmericanWWIICamps/project-showcase/)\n",
    "\n",
    "## Introduction\n",
    "This module is based on a case study involving [WWII Japanese American incarceration camp](https://en.wikipedia.org/wiki/Internment_of_Japanese_Americans) archival records from the National Archives and Records Administration (NARA). These records were examined for their potential to generate new forms of archival analysis and historical research engagement at the Tule Lake Unit, a recently established National Monument of the National Park Service (NPS) through a December 2008 Presidential proclamation. The project worked closely with NARA staff from the Office of Innovation and Research Services, and NPS staff from the NPS Tule Lake Unit, as well as prominent Tule Lake historians, colleagues from King’s College London, and experts from the US Holocaust Memorial Museum.\n",
    "\n",
    "![Map showing western United States and locations of WWII Japanese-American camps](JAWWII-map.png \"Map of Camp Locations\")\n",
    "\n",
    "The overall aim of this project is to build a platform for the integration of a number of distributed digital sources including significant sources from NARA:\n",
    "\n",
    "* Camp “incident cards” data (persons, dates, events, locations)\n",
    "* Japanese-American Internee database of 109,000 names\n",
    "* 4,100 online WRA photos\n",
    "* Architectural camp records\n",
    "\n",
    "The approach is inspired by the Digital Harlem Project, which developed a digital platform to query, map, and visualize legal records of ordinary citizens in Black Harlem between 1915 and 1930. The Tule Lake project investigates and prototypes a platform that also links people, places, and events from distributed sources in a way that brings that archive to life as a resource for investigation and storytelling.\n",
    "\n",
    "![Top view of box full of filed index cards](box8-top.png \"Box 8\")\n",
    "\n",
    "![Front view of box full of filed index cards](box8-front.png \"Box 8\")\n",
    "\n",
    "## Motivation\n",
    "Balancing privacy and  access is an important topic in the age of digital curation, where datafication and the use of big data can lead to compromising privacy through the application of predictive analytics. In this module, we use the 10,000 **released** cards to create and test an algorithm that detects personally identifiable information (PII). Since these cards are already released, those involving anyone who was a juvenile at the time have already been redacted by NARA staff. So this card data is ideal for use as a demonstration of the algorithmic techniques for PII identification.\n",
    "\n",
    "## Learning Goals\n",
    "\n",
    "### **A**rchival Practices\n",
    " * Categories to be added..\n",
    "\n",
    "### **C**omputational Practices\n",
    "* Data Practices\n",
    " * Creating Data\n",
    " * Manipulating Data\n",
    " * Analyzing Data\n",
    " * Visualizing Data\n",
    "* Modeling & Simulation Practices\n",
    " * Designing Computational Models\n",
    " * Constructing Computational Models\n",
    "* Computational Problem Solving Practices\n",
    " * Computer Programming\n",
    " * Developing Modular Computational Solutions\n",
    " * Troubleshooting and Debugging\n",
    " \n",
    "### **E**thical Concerns\n",
    " * Categories to be added.."
   ]
  },
  {
   "cell_type": "markdown",
   "metadata": {},
   "source": [
    "# Software and Tools\n",
    "\n",
    "* Python 3\n",
    "* [Pandas](https://pandas.pydata.org/) - high-performance, easy-to-use data structures and data analysis tools for the Python programming language\n",
    "* [Matplotlib](https://matplotlib.org/) - a Python 2D plotting library\n",
    "\n"
   ]
  },
  {
   "cell_type": "markdown",
   "metadata": {},
   "source": [
    "# Acquiring or Accessing the Data\n",
    "The data for this project was originally acquired from NARA collections and then screened to remove records related to those who were minors at the time. The main set of records is a subset of a larger collection of so called \"incident cards\" from the Tule Lake camp. The data also includes two datasets that are person registries. One is the \"FAR Registry\" and the other is the \"WRA Form 26 Register\". WRA is the War Relocation Authority. All data sources are included in this module as comma-separated values files. The links below will take you to a view of each data file:\n",
    "\n",
    "* [Cards_Box9.csv](Cards_Box9.csv)\n",
    "* [TuleLake_FAR_ALL_FINAL4.csv](TuleLake_FAR_ALL_FINAL4.csv)\n",
    "* [WRAForm26.csv](WRAForm26.csv)\n",
    "\n",
    "No additional data is required to run the notebooks in this module."
   ]
  },
  {
   "cell_type": "markdown",
   "metadata": {},
   "source": [
    "# Notebooks\n",
    "\n",
    "This module is organized into a series of Python Notebooks that introduce, process, coordinate, and visualize the Tule Lake data.\n",
    "\n",
    "1. [Dataset Review: WRA Form 26](WRAForm26.ipynb)\n",
    "1. [Dataset Review: Incident Cards](Cards.ipynb)\n",
    "1. [Dataset Review: Final Accountability Roster (FAR)](FAR.ipynb)\n",
    "1. [Finding Private PII, Part One](PII_Algorithm.ipynb)\n",
    "1. [Finding Private PII, Part Two](PII_Algorithm2.ipynb)\n",
    "1. [Data Visualization](Visualize.ipynb)"
   ]
  },
  {
   "cell_type": "code",
   "execution_count": null,
   "metadata": {},
   "outputs": [],
   "source": []
  }
 ],
 "metadata": {
  "cases_info": {
   "computational_practices": [
    "cas:dp_collecting_data",
    "cas:dp_creating_data"
   ]
  },
  "kernelspec": {
   "display_name": "Python 3",
   "language": "python",
   "name": "python3"
  },
  "language_info": {
   "codemirror_mode": {
    "name": "ipython",
    "version": 3
   },
   "file_extension": ".py",
   "mimetype": "text/x-python",
   "name": "python",
   "nbconvert_exporter": "python",
   "pygments_lexer": "ipython3",
   "version": "3.6.5"
  }
 },
 "nbformat": 4,
 "nbformat_minor": 2
}
