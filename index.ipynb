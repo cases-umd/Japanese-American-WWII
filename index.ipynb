{
 "cells": [
  {
   "cell_type": "markdown",
   "metadata": {},
   "source": [
    "# Japanese American WWII Camps - CASE Module\n",
    "### Revisiting Segregation through Computational Treatments: the Case of the WWII Japanese American Tule Lake Segregation Center\n",
    "* **Contributors:** Richard Marciano and Greg Jansen\n",
    "* **Community Partner:** Geoff Froh (Densho.org)\n",
    "    * \"A grassroots organization dedicated to preserving, educating, and sharing the story of World War II-era incarceration of Japanese Americans in order to deepen understandings of American history and inspire action for equity\")\n",
    "* **Source Available:** https://github.com/cases-umd/Japanese-American-WWII\n",
    "* **License:** [Creative Commons - Attribute 4.0 Intl](https://creativecommons.org/licenses/by/4.0/)\n",
    "* [Lesson Plan for Instructors](./lesson-plan.ipynb)\n",
    "* **Related Publications:** \n",
    " * [Automating the Detection of Personally Identifiable Information (PII) in Japanese-American WWII Incarceration Camp Records](https://dcicblog.umd.edu/ComputationFrameworkForArchivalEducation/wp-content/uploads/sites/20/2019/01/pii_paper.pdf)\n",
    "* **More Information:**\n",
    " * [Project Blog](https://dcicblog.umd.edu/Japanese-AmericanWWIICamps/project-showcase/)\n",
    "\n",
    "## Introduction\n",
    "This module is based on a case study involving [WWII Japanese American Incarceration Camp Records](https://encyclopedia.densho.org/Tule_Lake/) from Tule Lake, stored at the National Archives and Records Administration (NARA). \"Tule Lake was one of the ten concentration camps built to imprison Japanese Americans forcibly removed from the West Coast states during World War II. Following the ill-conceived loyalty questionnaire that was administered in early 1943 to the imprisoned population, inmates who refused to give unqualified 'yes' responses were segregated to Tule Lake and unjustly labeled as 'disloyal'\".\n",
    "\n",
    "NARA requested that the project team identify index cards with information about internees 18 years old or younger at the time of the event recorded on the index card so these cards could be redacted. To support these release decisions, detailed name gazetteers of internees are needed. These include: (1) the “Japanese-American Internee Data File, 1942 – 1946”, with records of evacuated Japanese-Americans, also known as WRA Form 26, and (2) the “Final Accountability Rosters of Evacuees at Relocation Centers, 1944-1946, also known as FAR, with records of evacuees at the time of their final release or transfer. \n",
    "\n",
    "The index cards reference narrative reports prepared by camp investigators, police officers, and directors of internal security, relating cases of alleged “disorderly conduct, rioting, seditious behavior,” etc. with detailed information on the names and addresses in the camps of the persons involved, the time and place where the alleged incident occurred, an account of what happened, and a statement of action taken by the investigating officer. These cards have not been released to the public yet and are being analyzed and curated by students in the DCIC.\n",
    "\n",
    "<center>\n",
    "<img src=\"Pics/JAWWII-map.png\" title=\"Map of Camp Locations\" width=\"539\" height=\"334\"/> \n",
    "</center>\n",
    "\n",
    "<center>\n",
    "<img src=\"Pics/box8-top.png\" title=\"Box 8 - Top view\" width=\"194\" height=\"256\"/> \n",
    "<img src=\"Pics/box8-front.png\" title=\"Box 8 - Front view\" width=\"345\" height=\"256\"/> \n",
    "</center>\n",
    "\n",
    "## Motivation & Considerations on Personally Identifiable Information (PII)\n",
    "Balancing privacy and access is an important topic in the age of digital curation, where datafication and the use of big data can lead to compromising privacy through the application of [predictive analytics](http://dx.doi.org/10.1080/01972243.2016.1153010). As noted in [Aspects of Data Ethics in a Changing World: Where Are We Now?](https://www.liebertpub.com/doi/full/10.1089/big.2018.0083) “powerful tools for extracting information from data have the potential to significantly enhance the human condition. However, ... this comes with the potential for misuse.”\n",
    "\n",
    "In this study, we focus on the curation, processing, and analysis of the records of the WWII Japanese-American Incarceration Camp card series 52 (from Record Group 210: Records of the War Relocation Authority), located at the National Archives and Records Administration (NARA) in Washington D.C. This series has not yet been released to the public and includes index cards containing information about internal security cases for the ten incarceration centers in which Japanese-Americans were imprisoned during World War II.  See: [DigitalHeritage 2018](http://dcicblog.umd.edu/cas/wp-content/uploads/sites/13/2019/04/DigitalHERITAGE_2018_paper_220.pdf).\n",
    "\n",
    "Currently, public access to these records is restricted to protect personally identifiable information (PII). NARA’s [Privacy Policy Program 160](https://www.archives.gov/files/foia/directives/nara1608.pdf) defines **PII as “any information that can be used to distinguish or trace an individual’s identity**, such as their name, Social Security Number, biometric records, etc. alone, or when combined with other personal or identifying information that is linked or linkable to a specific individual, such as date and place of birth, mother’s maiden name, etc.” PII is specified in the Freedom of Information Act (FOIA), 5 U.S.C. §552, which allows for most federal records to be disclosed to the public unless they are exempt from disclosure by one of nine exemptions. [Exemption 6](http://www.foiadvocates.com/exemptions.html) (also known as FOIA (b)(6) restriction) relates to documents which are “personnel and medical and similar files, the disclosure of which would constitute a clearly unwarranted invasion of personal privacy” .\n",
    "\n",
    "RG210 Series 52 is currently FOIA (b)(6) restricted. In addition, NARA’s regulations establish a presumption that PII concerns end at the 75-year mark, per 36 CFR 1256.56 generally and especially [subsection (a)(2](https://www.ecfr.gov/cgi-bin/text-idx?SID=212c3f863ee5ea2d0d03ca4ab31e4a49&mc=true&node=pt36.3.1256&rgn=div5#se36.3.1256_140).\n",
    "\n",
    "Archivists are increasingly recognizing **the importance of information privacy** as seen through the Society of American Archivists’s (SAA) [Core Values Statement and Code of Ethics](https://www2.archivists.org/statements/saa-core-values-statement-and-code-of-ethics), which focuses on access and use that is consistent with personal privacy. “Archivists select, preserve, and make available primary sources that document the activities of ... individuals” and in the process “place access restrictions on collections to ensure that privacy and confidentiality are maintained, particularly for individuals and groups who have no voice or role in the collections’ creation, retention, or public use.” Similarly, one of the ten points from the International Council on Archives’ [(ICA) Code of Ethics](https://www.ica.org/en/ica-code-ethics) focuses on the need to respect “the personal privacy of individuals who created or are the subjects of records, especially those who had no voice in the use or disposition of the materials.”\n",
    "\n",
    "In an earlier effort to help with the release of the 25,000+ cards in this series, NARA’s Special Access and FOIA office devised a PII release policy for adults referenced in cards only, out of concern that cards involving younger individuals be interpreted as “juvenile criminal” records. This policy was used by staff at the Office of Innovation to release part of the collection to the Digital Curation Innovation Center (DCIC) at the University of Maryland iSchool. Nearly 10,000 cards were transferred, representing 40% of the series. The other cards were to be redacted, but this was never completed. **Redaction is the process of removing exempted information from a copy of a record destined to the public.**\n",
    "In this study, we report on the use of the 10,000 released cards for the purpose of demonstrating the creation and testing of an algorithm that automates the detection of PII.\n",
    "\n",
    "## On the Significance of Engaging with Community Organizations and Stakeholders\n",
    "Our plan is to develop a **culturally-sensitive access policy** with the input of key stakeholders, one that can serve as a model for other community organizations. We hope to form an Advisory Committee and schedule public outreach events. We also hope to collaborate with Densho (http://densho.org), a roundtable of Scholars, and the Japanese American Citizens League (JACL).\n",
    "\n",
    "## Learning Goals\n",
    "\n",
    "### **A**rchival Practices\n",
    "* Review of records for Personally Identifiable Information restricted from release to the public\n",
    "* Creation of digital card index to archived records\n",
    "* Creation of digital name authority file\n",
    "\n",
    "### **C**omputational Thinking Practices\n",
    "* Data Practices\n",
    " * Creating Data\n",
    " * Manipulating Data\n",
    " * Analyzing Data\n",
    " * Visualizing Data\n",
    "* Modeling & Simulation Practices\n",
    " * Designing Computational Models\n",
    " * Constructing Computational Models\n",
    "* Computational Problem Solving Practices\n",
    " * Computer Programming\n",
    " * Developing Modular Computational Solutions\n",
    " * Troubleshooting and Debugging\n",
    " \n",
    "### **E**thics and Values Considerations\n",
    " * Personally identifiable information (PII)\n",
    " * Developing a culturally-sensitive access policy"
   ]
  },
  {
   "cell_type": "markdown",
   "metadata": {},
   "source": [
    "# Software and Tools\n",
    "\n",
    "* Python 3\n",
    "* [Pandas](https://pandas.pydata.org/) - high-performance, easy-to-use data structures and data analysis tools for the Python programming language\n",
    "* [Matplotlib](https://matplotlib.org/) - a Python 2D plotting library\n",
    "\n"
   ]
  },
  {
   "cell_type": "markdown",
   "metadata": {},
   "source": [
    "# Acquiring or Accessing the Data\n",
    "The data for this project was originally acquired from NARA collections and then screened to remove records related to those who were minors at the time. The main set of records is a subset of a larger collection of so called \"incident cards\" from the Tule Lake camp. The data also includes two datasets that are person registries. One is the \"FAR Registry\" and the other is the \"WRA Form 26 Register\". WRA is the War Relocation Authority. All data sources are included in this module as comma-separated values files. The links below will take you to a view of each data file:\n",
    "\n",
    "* [Cards_Box9.csv](Datasets/Cards_Box9.csv)\n",
    "* [TuleLake_FAR_ALL_FINAL4.csv](Datasets/TuleLake_FAR_ALL_FINAL4.csv)\n",
    "* [WRAForm26.csv](Datasets/WRAForm26.csv)\n",
    "\n",
    "No additional data is required to run the notebooks in this module."
   ]
  },
  {
   "cell_type": "markdown",
   "metadata": {},
   "source": [
    "# Notebooks\n",
    "\n",
    "This module is organized into a series of Python Notebooks that introduce, process, coordinate, and visualize the Tule Lake data.\n",
    "\n",
    "1. [Dataset Review: WRA Form 26](WRAForm26.ipynb)\n",
    "1. [Dataset Review: Incident Cards](Cards.ipynb)\n",
    "1. [Dataset Review: Final Accountability Roster (FAR)](FAR.ipynb)\n",
    "1. [Finding Private PII, Part One](PII_Algorithm.ipynb)\n",
    "1. [Finding Private PII, Part Two](PII_Algorithm2.ipynb)\n",
    "1. [Data Visualization](Visualize.ipynb)"
   ]
  }
 ],
 "metadata": {
  "cases_info": {
   "computational_practices": [
    "cas:dp_collecting_data",
    "cas:dp_creating_data"
   ]
  },
  "kernelspec": {
   "display_name": "Python 3",
   "language": "python",
   "name": "python3"
  },
  "language_info": {
   "codemirror_mode": {
    "name": "ipython",
    "version": 3
   },
   "file_extension": ".py",
   "mimetype": "text/x-python",
   "name": "python",
   "nbconvert_exporter": "python",
   "pygments_lexer": "ipython3",
   "version": "3.6.5"
  }
 },
 "nbformat": 4,
 "nbformat_minor": 2
}
