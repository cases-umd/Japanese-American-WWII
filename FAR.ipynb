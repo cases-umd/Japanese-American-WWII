{
 "cells": [
  {
   "cell_type": "markdown",
   "metadata": {},
   "source": [
    "# Explore the Final Accountability Rosters (FAR) Registry\n",
    "\n",
    "The last set of records created were the Final Accountability Rosters of Evacuees at Relocation Centers, 1944-1946, also known as FAR. These rosters contain records of evacuees at the time of their final release or transfer.\n",
    "\n",
    "## **Student Activity**: Dataset Exploration (FAR)\n",
    "We have looked at two example datasets in previous notebooks. Now you will use the same Panda functions to explore this FAR Registry file: [TuleLake_FAR_ALL_FINAL4.csv](TuleLake_FAR_ALL_FINAL4.csv)\n",
    "Add your own code cells to the notebook and run that code to look closely at the data. Make your own notes in the **My Dataset Notes (FAR)** markdown cell."
   ]
  },
  {
   "cell_type": "code",
   "execution_count": 4,
   "metadata": {},
   "outputs": [],
   "source": [
    "# Loading the Data\n",
    "import pandas as pd\n",
    "\n",
    "# HINT: The first step is to read the CSV file into a Pandas data frame:\n",
    "data_FAR = pd.read_csv(\"TuleLake_FAR_ALL_FINAL4.csv\")"
   ]
  },
  {
   "cell_type": "code",
   "execution_count": 6,
   "metadata": {},
   "outputs": [
    {
     "data": {
      "text/plain": [
       "(28879, 6)"
      ]
     },
     "execution_count": 6,
     "metadata": {},
     "output_type": "execute_result"
    }
   ],
   "source": [
    "# Add your code here and create more cells if needed..\n",
    "\n",
    "data_FAR.shape"
   ]
  },
  {
   "cell_type": "markdown",
   "metadata": {},
   "source": [
    "### My Dataset Notes (FAR)\n",
    "\n",
    "Common questions:\n",
    "* What fields are available?\n",
    " * ??\n",
    "* How many rows are there?\n",
    " * ??\n",
    "* What is the most common birth year?\n",
    " * ??\n",
    "* Bonus: What is the most common birth decade?\n",
    "\n",
    "(This area provided for you to record your own notes on the dataset.)"
   ]
  }
 ],
 "metadata": {
  "kernelspec": {
   "display_name": "Python 3",
   "language": "python",
   "name": "python3"
  },
  "language_info": {
   "codemirror_mode": {
    "name": "ipython",
    "version": 3
   },
   "file_extension": ".py",
   "mimetype": "text/x-python",
   "name": "python",
   "nbconvert_exporter": "python",
   "pygments_lexer": "ipython3",
   "version": "3.6.5"
  }
 },
 "nbformat": 4,
 "nbformat_minor": 2
}
