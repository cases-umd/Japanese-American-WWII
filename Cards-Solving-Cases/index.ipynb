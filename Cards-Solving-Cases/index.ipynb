{
 "cells": [
  {
   "cell_type": "markdown",
   "metadata": {},
   "source": [
    "## Solving Incarceration Camp Cases with Computational Storytelling\n",
    "### Part of [Japanese-American-WWII](https://cases.umd.edu/github/cases-umd/Japanese-American-WWII) repository in CASES\n",
    "* Contributors: Sarah A. Buchanan; 27 Graduate Students in 2021SP course.\n",
    "* Partner: Geoff Froh, Deputy Director, Denshō \n",
    "* Source Available: https://cases.umd.edu/github/cases-umd/Japanese-American-WWII/blob/master/Cards-Solving-Cases/index.ipynb\n",
    "* License: [Creative Commons - Attribute 4.0 Intl](https://creativecommons.org/licenses/by/4.0/). [Esri Master Agreement Products and Services](https://www.esri.com/content/dam/esrisites/en-us/media/legal/ma-full/ma-full.pdf); [OpenRefine BSD 3-Clause](https://github.com/OpenRefine/OpenRefine/blob/master/LICENSE.txt).\n",
    "* [Lesson Plan for Instructors](./lesson-plan-CSC.ipynb)\n",
    "\n",
    "## Introduction\n",
    "Students complete a Data Modeling assignment in Data & Records Management 9492, part of the Archival Studies MLIS emphasis at Missouri’s iSchool. Working in groups of three, students are provided with a data dictionary and dataset from an archival agency, and they engage in manipulation and visualization of the data to show patterns, identify or reconstruct decisions, and construct future uses of the records. Classmates often take and share notes in a Google Doc. A Guest Lecture was generously given by PN member Geoff Froh, Deputy Director at Denshō, a month out from the assignment due date. Titled “Punchcard Stories,” Froh’s presentation discussed the Japanese-American incarceration history and contextualized our three datasets. \n",
    "We also noted the Library of Congress’s [collection of camp newspapers](https://www.loc.gov/collections/japanese-american-internment-camp-newspapers/) as mentioned in a recent virtual presentation by the Missouri S&T Archives and SHSMO-Rolla Research Center, “[Japanese-American Student Success at the Missouri School of Mines in World War II](https://shsmo.org/on-demand/missouri-history/japanese-american-students-at-msm).” \n",
    "The student submissions are structured as a Computational Story in CASES – including the objectives, visualizations, and ethical considerations enumerated in each Notebook. The below sections relate to the Data Modeling assignment itself, first in the context of CT-LASER+ ([project website](https://ai-collaboratory.net/projects/piloting-ct-laser/)) educator (EN) and practitioner (PN) network collaborations, and more broadly that of graduate archival education and archival science pedagogy.\n",
    "Some material was first presented as “Solving Incarceration Camp Cases with Computational Storytelling” at the [October Mini-Summit](https://ai-collaboratory.net/2021/09/12/oct-15-2021-online-mini-summit/) on CAS Educational Possibilities. The Notebooks include instructor contributions and student initials for some combined items. \n",
    "\n",
    "### Further Information\n",
    "Learn more about Archival Studies at Missouri’s iSchool at https://education.missouri.edu/degree/archival-studies-mlis/\n",
    "\n",
    "## Objectives\n",
    "The main objective of the Data Modeling assignment, which is one of the course goals in IS_LT 9492, is to: “Develop skills to mediate among stakeholders (records creators, users, and IT staff) over the records lifecycle to ensure perpetual (tiered) access to analog and digital formats.” \n",
    "The objective also aligns with the 2016 SAA GPAS curriculum components, including but not limited to: **(1)** Knowledge of archival material and functions, (c) Arrangement and Description, and (e) Reference and Access; and **(2)** Knowledge of the profession, (c) Ethics and values.\n",
    "\n",
    "## Learning Goals\n",
    "* Computational Practices:\n",
    " * Data Practice 3 – Manipulating Data\n",
    " * Data Practice 5 – Visualizing Data\n",
    "* Archival Studies Guidelines:\n",
    " * Core Archival Knowledge – Archival Material and Functions – Arrangement and Description\n",
    " * Core Archival Knowledge – Archival Material and Functions – Reference and Access\n",
    " * Knowledge of the Profession – Ethics and Values"
   ]
  },
  {
   "cell_type": "markdown",
   "metadata": {},
   "source": [
    "# Software and Tools\n",
    "Students are asked to download one tool – [OpenRefine](http://openrefine.org/) – and use it to import the provided dataset (portion). Doing so will meet the goal of DP 3, Manipulation.\n",
    "\n",
    "Student groups are encouraged to use additional resources to meet the goal of DP 5, Visualization, some examples of which include [Dataviz.tools](https://dataviz.tools/), [Data Biographies](http://idatassist.com/data-biographies-how-to-get-to-know-your-data/), [Visualization Tools](https://catablogweb.wordpress.com/2021/07/07/recording-available-telling-stories-with-library-data-visualization-projects-and-tools/) presented at ARLIS/NA 2021, Dr. Melanie Walsh’s [Introduction to Cultural Analytics & Python](https://melaniewalsh.github.io/Intro-Cultural-Analytics/welcome.html) (2021), and the [Usage case studies](https://jupyter4edu.github.io/jupyter-edu-book/case-studies.html) in Teaching and Learning with Jupyter (2019)\n",
    "\n",
    "For OpenRefine:\n",
    "\n",
    "1. Visit the website https://openrefine.org/\n",
    "2. View the video tutorials. \n",
    "3. Download the latest stable release per the instructions at https://openrefine.org/download.html \n"
   ]
  },
  {
   "cell_type": "markdown",
   "metadata": {},
   "source": [
    "# Acquiring or Accessing the Data\n",
    "The members of the CT-LASER+ Educator Network (EN) this semester received complementary portions of a dataset being studied by Denshō: Intake Registry, Camp cards (Dr. Buchanan’s course), and Exit Registry. The data, digitized in 2015, were treated as non-public information until they reached 75 years of age. Accordingly the EN coordinates their students’ secure access to the data during the course semester, after which students should delete their local copies.\n"
   ]
  },
  {
   "cell_type": "markdown",
   "metadata": {},
   "source": [
    "# Notebooks\n",
    "1. [A Review of Incident Reports Related to Women](Note1-Women-Incident.ipynb)\n",
    "2. [A Computational Approach to the Relationship Between Regulation Infractions and Transfers in the Denshō Records](Note2-Infractions.ipynb)\n",
    "3. [Analysis of Recorded Transfers from the Tule Lake Segregation Center](Note3-Transfers.ipynb)\n",
    "4. [Internee Joe Norikane and Naming Crimes on Native Lands](Note4-Crimes.ipynb)\n",
    "5. [The Kazama Representatives Riot](Note5-Kazama.ipynb)\n",
    "6. [Personal Timelines from the Japanese-American WWII Camp in Tule Lake](Note6-Timelines.ipynb)\n",
    "7. [A Murder in the Cards: Reopening the Unsolved Case of Yaozo Hitomi’s Death at Tule Lake](Note7-UnsolvedCase.ipynb)"
   ]
  },
  {
   "cell_type": "code",
   "execution_count": null,
   "metadata": {},
   "outputs": [],
   "source": []
  }
 ],
 "metadata": {
  "cases_info": {
   "computational_practices": [
    "cas:dp_collecting_data",
    "cas:dp_creating_data"
   ]
  },
  "kernelspec": {
   "display_name": "Python 3",
   "language": "python",
   "name": "python3"
  },
  "language_info": {
   "codemirror_mode": {
    "name": "ipython",
    "version": 3
   },
   "file_extension": ".py",
   "mimetype": "text/x-python",
   "name": "python",
   "nbconvert_exporter": "python",
   "pygments_lexer": "ipython3",
   "version": "3.8.6"
  }
 },
 "nbformat": 4,
 "nbformat_minor": 4
}
