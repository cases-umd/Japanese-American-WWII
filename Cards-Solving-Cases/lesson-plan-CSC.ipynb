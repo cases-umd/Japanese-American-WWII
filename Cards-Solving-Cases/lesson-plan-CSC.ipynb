{
 "cells": [
  {
   "cell_type": "markdown",
   "metadata": {},
   "source": [
    "# Lesson Title\n",
    "Data Modeling in student groups of 3: Writing and Presenting a Computational Story\n",
    "\n",
    "## Lesson Description\n",
    "Working in groups of 3, students will receive a data dictionary and dataset from an archival agency that reflects the historical events depicted, and will engage in manipulation and visualization of the data to show patterns, identify or reconstruct decisions, and construct future uses of the records.\n",
    "\n",
    "*Lesson Name*: Writing a Computational Story. |*Author*: Sarah A Buchanan |*Publication Date*: November 1, 2021\n",
    "*Resource URL*: https://cases.umd.edu/github/cases-umd/Japanese-American-WWII/blob/master/Cards-Solving-Cases.ipynb |            \n",
    "-----|-----|----- \n",
    "*Archival Topics (2016 SAA GPAS)*|A. Core Archival Knowledge > 1. Knowledge of Archival Material and Functions. > (c) Arrangement and Description.\n",
    "A. Core Archival Knowledge > 1. Knowledge of Archival Material and Functions. > (e) Reference and Access.\n",
    "A. Core Archival Knowledge > 2. Knowledge of the Profession. > (c) Ethics and Values.\n",
    "|\n",
    "*Computational Thinking Topics*|DP3) Manipulating Data\n",
    "(DP4) Analyzing Data\n",
    "(DP5) Visualizing Data\n",
    "(MS1) Using Computational Models to Understand a Concept\n",
    "(MS2) Using Computational Models to Find and Test Solutions\n",
    "(CPS3) Choosing Effective Computational Tools\n",
    "(ST3) Thinking in Levels\n",
    "|\n",
    "*Lesson Objectives*|Through this major lesson, students:\n",
    "●\tDevelop skills to mediate among stakeholders (records creators, users, and IT staff) over the records lifecycle to ensure perpetual (tiered) access to analog and digital formats.\n",
    "We work with “real data” prepared by archival agency staff according to the agency users’ needs. [Challenge Question:] But why are certain descriptive and access decisions made, can we reconstruct their creation? What content patterns are even contained in these records and how might we visualize or present them?\n",
    "|\n",
    "*Pre/co-requisite knowledge*|By the time students co-present this work (~W9), in the course we have discussed the relevant topics of:\n",
    "●\tEvidential and informational value\n",
    "●\tOrganizational culture and recordkeeping requirements\n",
    "●\tData sharing and reuse practices in the disciplines\n",
    "●\tContexts of records creation, curation, and use\n",
    "●\tData visualization and storytelling\n",
    "|\n",
    "*Resources*|This lesson requires:\n",
    "●\tInternet access to browse our and other modules published at the https://cases.umd.edu/ URL \n",
    "●\tData dictionary and dataset (linked at Canvas assignment page)\n",
    "●\tIndividual and collaborative writing\n",
    "●\tAccess to the following tools: OpenRefine\n",
    "●\tAccess to GitHub and knowledge of developing and working with Jupyter Notebooks is optional and will enhance the experience.\n",
    "|\n",
    "*Typical plan and expected variations*|This lesson is introduced in W1, when students form their group of three. The data dictionary and dataset are made available shortly thereafter to all groups, and members begin to work collaboratively. A Guest Lecture providing useful context may occur around W5. The group document and presentation are due one month later, comprising the major assessment of the course. Students can extend their Computational Story if they so choose for their final essay.|\n",
    "*Outcomes/Assessment*|The grading rubric for the document comprises (a) ideas and content, (b) details and jargon, (c) expressive voice, (d) sentence fluency, organization, and grammar, and (e) SLO4 on assessing and responding to community needs and instructing users with informational resources|\n",
    "\n",
    "## "
   ]
  }
 ],
 "metadata": {
  "kernelspec": {
   "display_name": "Python 3",
   "language": "python",
   "name": "python3"
  },
  "language_info": {
   "codemirror_mode": {
    "name": "ipython",
    "version": 3
   },
   "file_extension": ".py",
   "mimetype": "text/x-python",
   "name": "python",
   "nbconvert_exporter": "python",
   "pygments_lexer": "ipython3",
   "version": "3.8.6"
  }
 },
 "nbformat": 4,
 "nbformat_minor": 4
}
