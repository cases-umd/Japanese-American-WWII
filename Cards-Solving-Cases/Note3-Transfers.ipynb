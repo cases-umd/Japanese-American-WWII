{
 "cells": [
  {
   "cell_type": "markdown",
   "metadata": {},
   "source": [
    "# Analysis of Recorded Transfers from the Tule Lake Segregation Center \n",
    "by KD, SM, HY Group Yellow \n",
    "\n",
    "## Data Overview, Telling Our Story\n",
    "We investigated only records of transfers at California’s Tule Lake internment camp, resulting in 1,615 cards. The vast majority of transfers involved two locations: Santa Fe, New Mexico (784 cards) and Bismarck, North Dakota (718 cards). \n",
    "\n",
    "We evaluated each site separately, then brought our findings together to provide a picture of transfers out of Tule Lake overall. With historical research (Leonard, 2004; Emerson, 2019), we were able to determine that these were end-of-war transfers to Department of Justice facilities. For example, the transfers on February 14, 1945, and more in July 1945 were “renunciants,” meaning they purportedly renounced their citizenship. Our analysis revealed that the U.S. deported more than half of them later that year.\n",
    "\n",
    "Initially, we were interested in demographic information. We investigated if there were meaningful patterns in gender, age, and family status. While there may well be, we did not have sufficient information to identify those, so we switched tacks. The most useful pattern was the date of the evacuations. As it turned out, transfers tended to happen in large groups."
   ]
  },
  {
   "cell_type": "markdown",
   "metadata": {},
   "source": [
    "## Dataset Exploration related to Scale and Levels within Collection \n",
    "Data analysis began with a cursory, visual overview of the original 25,253 incident cards from Tule Lake Segregation Center, as well as the corresponding Excel spreadsheet, to determine an initial line of inquiry. Once a pattern of evacuee transfers was discovered, the Excel spreadsheet was imported to OpenRefine, and the dataset was narrowed to 1,615 files which included the term “transfer.”\n",
    "\n",
    "The main tools we used for computations were OpenRefine and Excel. Once we had established the patterns of transfers (both date and location) we mapped them using Esri’s ArcGIS program.\n",
    "\n",
    "## Data Cleaning and Preparation \n",
    "After reducing the dataset to transfers, and further to explore Bismarck and Santa Fe transfers specifically, the transfers were checked by date and offense and we referenced the card/box image to look for typos and/or correlation. The majority of the transfers to those two locations showed transfers out of Tule Lake. Our focus went to the date of evacuation to gain a clear and manageable picture.\n",
    "\n",
    "## Modeling: Computation and Transformation\n",
    "Since Santa Fe also served as a “holding center,” data indicating a temporary status in Santa Fe were eliminated from the analysis. In total, there were 762 transfers to Santa Fe which took place on seven different days and 718 transfers to Bismarck which took place on six different days in 1945. In an effort to determine a reason for the large-scale transfers within the short time span, further analysis was conducted by cross checking the original Excel spreadsheet for other incident cards bearing the names of transferees to Bismarck. Each record containing a matching name and potentially punishable “offense” was included in a new dataset. The results revealed 102 transferees to Bismarck (14.3%) had a history of a recorded “offense” with 197 “offenses” identified among them. Based on the label of the offense and additional notations within the records, it was determined 124 of the total “offenses” (62.9%) were related to resistance efforts or support of such efforts. Given the low percentage of transferees with a history of recorded offenses, that was determined unlikely to be a primary cause for transfer to either facility. \n",
    "\n",
    "## Modeling: Visualization\n",
    "Esri ArcGIS StoryMap was chosen as the preferred data presentation method in order to encompass the depiction of transfers to two locations while also allowing for a narrative and computational model in a single presentation. Three interactive maps were created in a slideshow to portray the facility locations, provide images and location details, and illustrate the transfers. It allowed for visual continuity and a seamless flow of the narrative.\n",
    "\n",
    "The first map reveals the locations of the WRA Tule Lake Segregation Center and the Department of Justice facilities: Ft. Lincoln Internment Camp and Santa Fe Internment Camp. Each location marker can be selected to reveal a photo of the location as well as some basic information about its operations. [FIGURE 1]\n",
    "\n",
    "The second map illustrates and lists transfers from the Tule Lake Segregation Center to the Santa Fe Internment Camp in Santa Fe, New Mexico. [FIGURE 2]\n",
    "\n",
    "The third map depicts and lists transfers from the Tule Lake Segregation Center to the Ft. Lincoln Internment Camp in Bismarck, North Dakota. [FIGURE 3]\n",
    "\n",
    "The final data visualization is a computational model reflecting the data processing methods and outcomes of our project. The online tool Creately was employed to craft a custom flowchart. [FIGURE 4]\n",
    "\n",
    "<img src=\"yellowFIG1.png\" alt=\"three locations\" title=\"FIGURE 1\">\n",
    "     \n",
    "<img src=\"yellowFIG2.png\" alt=\"Santa Fe NM\" title=\"FIGURE 2\">\n",
    "\n",
    "<img src=\"yellowFIG3.png\" alt=\"Bismarck ND\" title=\"FIGURE 3\">\n",
    "     \n",
    "<img src=\"yellowFIG4.png\" alt=\"processing flowchart Creately\" title=\"FIGURE 4\">"
   ]
  },
  {
   "cell_type": "markdown",
   "metadata": {},
   "source": [
    "# Ethics and Values Considerations\n",
    "One ethical concern when working with records of this nature is individual privacy. In this report, we only discuss aggregated data, so this is not directly relevant. However, we use data where individual information is easily accessible. Even within this report, there are references to single-person transfers. If we did any demographic analysis, it would be impossible to aggregate for those particular individuals. This loss of privacy is not necessarily a bad thing — these are government records that should be made available to the public, the requisite 75 years have passed or are close to passing, and it is generally accepted that the records’ historic value overrules individuals’ privacy – but it is worth discussing.\n",
    "\n",
    "For a dataset like this, another key value is how these findings are made useful and relevant to the present day. One element is the personal import of such records to the living survivors of Japanese-American internment, and survivors’ descendants. Internment left a still-lingering impact on the Japanese-American community. While the kind of broad historical stories we began to discuss in this report are valuable to the general public, for members of the community, being able to access individual records is of immense value (not least of all true because of the ability to file federal restitution claims.)\n",
    "\n",
    "This dataset is useful and relevant to the present day as well through educational initiatives. Primary sources in history are a key element of contemporary education in civics and ethics. As Denshō notes, “These are valuable lessons for all Americans—citizens, immigrants and refugees alike—to remember as we confront challenges like Islamophobia, increasing hate violence, and the deep-seated nature of institutional racism that criminalizes Black and brown communities across the country” (Denshō, 2019).\n",
    "\n",
    "# Summary and Suggestions\n",
    "We looked at two groups of evacuations or transfers to the Santa Fe and Bismarck locations, and created a visualization of the data in maps to showcase how many people and where they were transferred from and to. The high percentage of resistance as part of the offenses (62.9%) is an important conclusion, while the low number of offenses (14.3%) committed by the transfers was likely not a huge factor in the reason behind the transfers of internees. Ethical concerns include individual privacy concerns for single person transfers (we did not address any specific names) and the traceability of their names to either their living relatives or themselves. The usability of this dataset and information can be helpful for ethics education and research on issues such as xenophobia. (SM)\n",
    "\n",
    "There are a few areas we feel warrant further investigation going forward. The first is the decision-making behind these mass transfers. Some cards in the collection contain relevant correspondence, and Denshō’s other holdings likely contain pertinent archival material. Furthermore, we recommend, if possible, analysis of the demographic breakdown of groups that were transferred. We anticipate that further analysis and historical research on these transfers will provide key information about citizenship, immigration, and incarceree experience as they relate to Japanese-American incarceration during World War II.\n"
   ]
  },
  {
   "cell_type": "markdown",
   "metadata": {},
   "source": [
    "# References\n",
    "* Densho. (2019). \"Why does this matter now?\" In Introduction to WWII Incarceration. https://densho.org/why-does-this-matter-now/ \n",
    "* Emerson, B. (2019, April 29). A piece of history: Structure from WWII internment camp to be reassembled in Bismarck. The Bismarck Tribune. https://bismarcktribune.com/news/local/bismarck/a-piece-of-history-structure-from-wwii-internment-camp-to-be-reassembled-in-bismarck/article_977aaf9c-5377-5ead-8a22-835521de95d5.html\n",
    "* Leonard, K.A. (2004, November 1). Review of Judgement without trial: Japanese-American imprisonment during World War II by Kashima Tetsuden, 2003. Western Historical Quarterly, 35(4), 513. https://doi.org/10.2307/25443070"
   ]
  }
 ],
 "metadata": {
  "kernelspec": {
   "display_name": "Python 3",
   "language": "python",
   "name": "python3"
  },
  "language_info": {
   "codemirror_mode": {
    "name": "ipython",
    "version": 3
   },
   "file_extension": ".py",
   "mimetype": "text/x-python",
   "name": "python",
   "nbconvert_exporter": "python",
   "pygments_lexer": "ipython3",
   "version": "3.8.6"
  }
 },
 "nbformat": 4,
 "nbformat_minor": 4
}
