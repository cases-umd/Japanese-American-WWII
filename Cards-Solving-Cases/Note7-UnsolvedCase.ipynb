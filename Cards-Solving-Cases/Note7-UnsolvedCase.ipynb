{
 "cells": [
  {
   "cell_type": "markdown",
   "metadata": {},
   "source": [
    "# A Murder in the Cards: Reopening the Unsolved Case of Yaozo Hitomi’s Death at Tule Lake\n",
    "by MB, TG, KH Group Coral and JA, EL, JV Group Indigo\n",
    "\n",
    "## Data Overview, Telling Our Story\n",
    "It has been more than 75 years since Yaozo Hitomi’s murder in the Japanese American internment camp Tule Lake, and the case remains unsolved. This project reopened the crime investigation to find whether computational tools could reveal patterns within the evidence to show a compelling suspect. We (Coral Group) narrowed the dataset from 23,500+ Tule Lake incident reports to 373 cards related to the July 2, 1944 murder, each one with only a name, date, case number, offense type, residence, and brief description of the incident. Many cards lacked one or more of the elements listed, making the evidence extremely limited. However, patterns began to appear after manipulating the data using Microsoft Excel, Miro, and RStudio.\n",
    "\n",
    "Hundreds of people were involved with incident case A-432 (OpenRefine), and we used 60 of them to create a graph and table of nodes and edges (Excel and Gephi). Indigo Group used 341 incident cards to create an undirected graph that would visually show who was involved in the case and how they were related to one another, in an effort to see some of the dynamics that existed within the camp at the time. That is, we created a computational treatment to clarify how various individuals, groups, and associations identified on the A-432 cards were connected to Hitomi. With relationships established, we could create an undirected graph to visualize the incident. "
   ]
  },
  {
   "cell_type": "markdown",
   "metadata": {},
   "source": [
    "## Dataset Exploration related to Scale and Levels within Collection \n",
    "Located in northern California, Tule Lake Segregation Center was the largest of the ten camps, home to as many as 18,700 detainees (National Park Service, 2019). Opening in May 1942, Tule Lake was also the only camp with a maximum-security isolation center, occupied by the U.S. Army. The War Relocation Authority [WRA] documented their interactions with the detainees. In 1943 Tule Lake was converted into a “segregation center” to detain anyone identified as “disloyal” based on the WRA’s loyalty questionnaire (Takei, 2020). The population at Tule Lake as a segregation center was mixed: two-thirds of the camp was identified as disloyal, the remaining one-third were labeled as “loyal” but had chosen not to leave for another camp (Takei, 2020). These dynamics created tension between the detainees over policies, living conditions, and their limited choices in self-governance. After the death of one detainee in October 1943, a portion of the camp went on strike. In response to the protest, the camp authorities enacted martial law beginning November 1943 and ending January 1944 (Takei, 2020). The camp closed in 1946, and the National Archives and Record Administration holds Record Group 210: Records of the War Relocation Authority. For this project, we worked specifically with the incident cards created by the Tule Lake authorities. The cards appear to track any interaction with camp authorities. Over 341 cards are associated with incident A-432, Felonious Homicide Murder on July 2, 1944. Yaozo Hitomi, who was found stabbed to death outside of 3514-B after attending a carnival.\n",
    "\n",
    "Coral Group members used **Microsoft Excel** to identify all of the cards about Hitomi and his murder, and we also used the larger set to search any topics or people we thought relevant. We then analyzed all of the remaining cards to write down any information we thought was interesting or vital to the investigation. We found that most suspects were named suspects because they lived near the murder site, or they were identified near the area at the time of the crime. Also, people with recorded conflicts with Hitomi or even a prior record of any incident were named suspects. Once we pulled out all of the vital information, we created a virtual string board on **Miro.com** to visualize the data and demonstrate relationships between pieces of data. We also utilized **RStudio** to create a word cloud of the most frequently used words in the incident reports.\n",
    "\n",
    "When filtering the dataset spreadsheet by date, it was clear that something significant happened on July 2, 1944, as there were over 300 records from that date. Indigo Group members used the program OpenRefine to search, filter, and manipulate the data. The next step was to compile a list of the people involved in case A-432, and we got about 20% of that list completed.  Our list of 60 people was loaded into an Excel spreadsheet, and their relationships with one another documented using evidence from the incident cards. That data was then used to create a table of nodes and edges for the undirected graph, then loaded into the program Gephi for visualization. From there the data was analyzed, sorted, labeled, and color coded to create the final visualization.\n",
    "\n",
    "## Data Cleaning and Preparation \n",
    "One of the first manipulations that we needed to design was to isolate the data related to the incident we were investigating. We needed to distinguish which entries were related to Hitomi’s murder as well as any other entries related to him before and after his death. We were able to do this by using Microsoft Excel’s filter and count if functions which allowed us to filter entries to those on the date of his murder as well as entries that included his name. We were then able to transfer this data to a separate file so that the information could be examined by itself. \n",
    "\n",
    "We turned our Excel list into a spreadsheet of nodes and edges, intended to become an undirected graph, which we exported to the program Gephi. There each person became a node, which is a circle with their name on it, and they were connected to one another by edges, which are lines labeled with the relationship type.\n",
    "\n",
    "## Modeling: Computation and Transformation\n",
    "Once the information was separated, we combed through the data to find anything we thought was pertinent. That information was then put onto a virtual string board where it was categorized: https://miro.com/app/board/o9J_lRUH6OI=/. In the subject category, we tried to determine which people were the most likely to have committed the crime. Once we determined that, we gave those names a different color than the other subjects. Then we continued to the original dataset with all of the card information and searched the names of those subjects to find out if they had any other incident cards. This helped us understand the subjects better and determine if they had any additional motives for committing the crime. We did this same process with any organizations mentioned in the interviews to determine who else was involved or if a particular organization planned the murder. The arrows point from one category toward a smaller category or piece of data. In some cases, data was relevant in more than one category, so there were multiple arrows pointing to a piece of data. The purpose of the virtual string board was to create a visualization of the data that was easily navigable and representative of the pertinent information in the set. \n",
    "\n",
    "Indigo: After each draft in Gephi, there would be some reorganizing of the data, such as arranging the nodes by category, or cutting down the types of relationships between people. The relationship types currently include **associate** (two people associated in some way that isn’t always clear), co-op (those connected to the co-op where Yoazo Hitomi worked), dispute (any type of argument or attack), family, friend, information shared (someone informed another person of something), member (of a group), neighbor, suspect (in the murder case), target (someone targeted by a group or person), threat (a threat was made by one person to another), and other (for things that are important but don’t fall into one of the other categories). More information about some of the relationships is stored in the spread sheet under a category called “More Info.” Some relationship types are vague, but the goal was to have a distinct color for each type for easy identification, and with too many, it was hard to tell the colors apart.\n",
    "\n",
    "## Modeling: Visualization\n",
    "In addition to the string board, we created a second visualization using RStudio. The second visualization was a word cloud [see FIGURE 2]. Our aim with the word cloud was to use the text mining tools in RStudio to see which suspect names, if any, were referenced most often in the dataset. To do this, we copied all of the text from the descriptions of the incidents on the cards in the Microsoft Excel spreadsheet and uploaded the text as a CSV file into RStudio. The next step was to clean the data. We removed numbers, punctuation, and stop words, such as “a,” “the,” “that,” etc. Then we stripped the white space, and we made all of the words lowercase to eliminate inconsistencies with capitalization. Next, we created a term-document matrix (TDM), which put every word and the number of times it was used into a table. The TDM allowed RStudio to analyze the frequencies of each word to organize them into the word cloud.\n",
    "\n",
    "Indigo: Another of our issues was how to identify people who fell into more than one relationship category, such as being both a neighbor and a suspect. That was somewhat solved by using their primary relationship type (based on evidence in the incident cards) and then storing their secondary relationship type under “More Info.” The nodes were then color-coded to show how closely related each person was to the victim, Yoazo Hitomi. In terms of how many degrees of separation between them and him, the closer a person was to him the darker their node is. There is one group that is currently not connected to the victim, and their nodes are colored grey. Since this is only a sample of the people involved, they may be connected to him in some way that hasn’t been discovered yet [see FIGURE 3].\n",
    "\n",
    "<img src=\"coralFIG1.jpg\" alt=\"RStudio wordcloud\" title=\"FIGURE 1\">\n",
    "\n",
    "<img src=\"indigoFIG2.png\" alt=\"Gephi undirected graph\" title=\"FIGURE 2\">"
   ]
  },
  {
   "cell_type": "markdown",
   "metadata": {},
   "source": [
    "## Ethics and Values Considerations\n",
    "Because our group decided to focus on one particular incident that occurred in the camp, sensitivity considerations were particularly important. Someone looking at the data may draw their own conclusions and wrongly accuse those found to be suspects in the case. This may bring about undeserved attention to those people. Finally, the incident we researched focused on the very personal matter of one death, and it might bring up bad memories for the family members involved or provide false hope in the case of finding someone responsible for the crime that happened so many years ago. Most of these considerations could be solved by reaching out to the family members of those involved in this incident and see if they feel comfortable with the public viewing any information found in this study of the data. Perhaps some compromises could be made to make all parties involved comfortable with the process if the larger study were ever made open to the public.\n",
    "\n",
    "Privacy, Access, and Diversity are core tenets of the professional code of values and ethics adopted by the Society of American Archivists (SAA). As records professionals, we must commit to ethical use and access of data and records. First and foremost, we have an ethical obligation to consider the impact of our research and model on both the dead and any living third party relations, such as children or grandchildren (McKee & Porter, 2012). The Tule Lake Incident Cards are subject to the Freedom of Information Act (F.O.I.A.) and are restricted under exemptions (b)(6) and (b)(7) until they are 75 years old. As the cards are restricted for a few more months, it is important to consider what the two exemptions currently protect, and how it will be important to consider implications for living detainees and their descendants even after the restrictions are lifted. These records document a multigenerational trauma with impacts that lasted generations beyond the internees (Nagata, 2015). We must stress that in some circumstances, absence of a full name and other identifying details prevents researchers from saying with certainty that individuals with the same surname, or variations of first and last names are indeed a single person or two different individuals. Finally, the creation of an incident card for a particular individual does not necessarily implicate the individual in a criminal act. Diversity of representation in archival records, especially in instances where “voices have been underrepresented or marginalized (SAA, 2020), requires care. Long term, it will be important to ensure voices of the Denshō community are active in determining how this data model furthers research on the Tule Lake Camp. This data model has the power to hold institutions accountable for their actions.\n",
    "\n",
    "## Summary and Suggestions\n",
    "By manipulating the data and creating the visuals, we were able to identify key suspects in the case, but did not yield a conclusive answer as to who killed Hitomi. We did, however, find valuable information about life in the camps. The cards revealed that tensions were high, and corruption was rampant. The study of Hitomi’s death allowed us a glimpse into a small part of life in the camps, and future research into Hitomi’s death using other resources besides the cards may allow us to learn even more about the inner workings of the Japanese American concentration camps.\n",
    "\n",
    "Indigo: The results of our data manipulation and visualization project paint a picture of the complex web of connections that existed at Tule Lake. As described by Takei, detainees lived and worked together in a manufactured community with an oppressive, authoritarian structure. Roughly 25 detainees were identified as potential suspects. One individual was identified as a “knife expert” and classified as a suspect because of the murder weapon. In relation to Hitomi’s murder, the cards give a snapshot of the administrators’ investigation methods and their conclusions. Work assignments, familial relations, representation on various committees, political and gang affiliations are all noted in the “other” section of the incident cards. Yet the incident cards do not indicate a conviction of/or charges filed against Hitomi’s murderer. Detainees were cut off from traditional outside news outlets, so our research yielded only one small news article on the murder, published in the Daily Review in Hayward, California, on July 3, 1944 (Hayward Review, 1944). Other records that might be helpful for a deeper study of Incident A-432 would include maps of Tule Lake buildings, interviews or oral histories of Tule Lake detainees, and any number of related series within the NARA Record Group 210. We identified one collection at Bancroft Library at the University of California Berkeley (holding several collections related to West Coast camps, including Tule Lake), that of anthropologist and author Rosalie Hankey (Wax). Hankey, as part of her employment with “the University of California Evacuation and Resettlement Project” (University of Chicago Library, 2008), conducted interviews with detainees and compiled a chronological manuscript draft on Tule Lake’s time as a Segregation Center. The draft kept by the Bancroft Library includes a chapter on Case A-432 titled “Chapter VI, Hitomi Murder and its Aftermath” (The Bancroft Library, n.d.). The Hankey and NARA cards, with further context, could produce an excellent study of the camp’s environment and case study for researchers in any number of fields.\n",
    "\n",
    "While we selected a homicide case for this study, our goal was not to produce a suspect list or solve a 77-year-old murder case. We were more interested in the dynamics that might lead to an unsolved homicide in a concentration camp. The data visualization project reinforced the narratives that are reflected in other Tule Lake written histories and resources. Reflectively, we all wrote the sections about our respective topics, and had multiple meetings to put things together seamlessly; this has been one of the best and most efficient groups I’ve ever worked with.\n",
    "\n",
    "The next step would be to transform this undirected graph into a mixed graph, where some relationships are directed and some are not. That would turn some of the edges from straight lines connecting two nodes, into arrows pointing from one node to another, which would make some relationships clearer. For example, the relationship type of “threat” would become clearer, because an arrow pointing from one person to another would show who threatened who, rather than simply stating that a threat occurred between two people. Not all relationships need to be directed, such as the relationship type “neighbor,” both people are neighbors with one another, nobody is the source or recipient in that type of relationship. Until then, we can still see how everyone is connected, even if having only undirected edges does leave things a bit vague. "
   ]
  },
  {
   "cell_type": "markdown",
   "metadata": {},
   "source": [
    "## References\n",
    "* The Hayward Review. \"__ at Tule Lake Stabbed to Death.\" 3 July 1944. https://www.newspapers.com/clip/29968254/daily-review/ and see also https://www.loc.gov/search/?in=&q=yaozo+hitomi and https://www.loc.gov/item/sn93053361/\n",
    "* McKee, H.A., & Porter, J.E. (2012). The ethics of archival research. *College Composition and Communication*, 64(1), 59–81. \n",
    "* Nagata, D.K. (2015, July 1). Righting a wrong - Densho: Japanese American incarceration and Japanese internment. Densho. https://densho.org/righting-a-wrong/ \n",
    "* Society of American Archivists. (2020, August). \"SAA core values statement and code of ethics.\" SAA. https://www2.archivists.org/statements/saa-core-values-statement-and-code-of-ethics \n",
    "* Takei, B. (2020, October 16). \"Tule Lake.\" Densho Encyclopedia. https://encyclopedia.densho.org/Tule_Lake/ \n",
    "* The Bancroft Library. (n.d.). “Chapter VI, Hitomi Murder and its Aftermath.” Digital collections, UC Berkeley Library. https://digicoll.lib.berkeley.edu/record/171740?ln=en \n",
    "* University of Chicago Library. (2008). *Guide to the Rosalie Hankey Wax papers 1967-1998.* The Hanna Holborn Gray Special Collections Research Center Finding Aids. https://www.lib.uchicago.edu/e/scrc/findingaids/view.php?eadid=ICU.SPCL.WAXRH "
   ]
  }
 ],
 "metadata": {
  "kernelspec": {
   "display_name": "Python 3",
   "language": "python",
   "name": "python3"
  },
  "language_info": {
   "codemirror_mode": {
    "name": "ipython",
    "version": 3
   },
   "file_extension": ".py",
   "mimetype": "text/x-python",
   "name": "python",
   "nbconvert_exporter": "python",
   "pygments_lexer": "ipython3",
   "version": "3.8.6"
  }
 },
 "nbformat": 4,
 "nbformat_minor": 4
}
