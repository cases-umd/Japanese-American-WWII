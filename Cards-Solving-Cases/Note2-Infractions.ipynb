{
 "cells": [
  {
   "cell_type": "markdown",
   "metadata": {},
   "source": [
    "# A Computational Approach to the Relationship Between Regulation Infractions and Transfers in the Denshō Records\n",
    "by MB, MD, AP Group Orange \n",
    "\n",
    "## Data Overview, Telling Our Story\n",
    "The data used for this preliminary model were taken from incident cards recorded at the Tule Lake internment camp for Japanese-Americans, which were obtained and provided by the non-profit organization Denshō. Initial data manipulations on OpenRefine revealed a potential correlation between dates of the incident categories “transfers” (to Santa Fe, New Mexico and Bismark, North Dakota) and “infraction of project regulations.” This latter category included a large number of activities that were considered political or displaying loyalty to the country of Japan. Considering this in the context of the fact that Bismark and Santa Fe often received internees considered Japanese loyalists or “recalcitrants” (Agarrat et al., 2019) we sought to explore whether these infractions were somehow related to the occurrence of transfers.\n",
    "\n",
    "Visualizing that correlation could be helpful for users that want to understand the effects of political activity in Japanese internment camps. The correlation could also help users better understand why people were transferred to one internment camp over another—or even why they were transferred at all [TABLE 1]. Despite the vast amount of data in the dataset, it is never made explicit why transfers occurred. Our computational treatment could provide meaningful context to the political culture of the internment camps. Even if there is no correlation between transfers and project infractions, the visualizations included in our computational treatment help to quantify the scope and frequency of transfers from Tule Lake to other internment camps and project infractions.\n",
    "\n",
    "The user needs that may be served by this analysis include:\n",
    "+ The identification of potentially deported ancestors/relatives\n",
    "+ Determination of the impact resulting from political affiliations in a carceral setting\n",
    "+ Contextualization of transfers by time, size, and political culture [MD]\n",
    "\n",
    "<img src=\"orangeTable1.jpg\" alt=\"numbers interred\" title=\"TABLE 1\">"
   ]
  },
  {
   "cell_type": "markdown",
   "metadata": {},
   "source": [
    "## Dataset Exploration related to Scale and Levels within Collection \n",
    "While the dataset covers the 1942-1945 date range, our narrative focuses primarily on the year 1945, when the vast majority of incidents used for this analysis occurred. Our smaller data set allowed for clearer visualizations with which to draw visual inferences from.\n",
    "\n",
    "Microsoft Excel was used for spreadsheets. [OpenRefine](https://openrefine.org/) (Version 3.4.1) was used to cleanup and manipulate the data in the original Tule Lake spreadsheet, then exported to a new spreadsheet for visualizations.  The data visualization tools used were [RAWGraphs v.1](https://old.rawgraphs.io/) for the beeswarm plot and [RAWGraphs 2.0 beta](https://app.rawgraphs.io/) for the matrix plot. Google Docs was used for brainstorming and document organization. [AP]\n",
    "\n",
    "## Data Cleaning and Preparation \n",
    "After initially looking at the data relating to transfers, we noticed that project infractions often seemed to occur near transfer dates. This made us wonder if there is a correlation between transfers to other camps and project infractions. Many infractions include the text “apprehended for marching and wearing insignia.” Our reasoning was that internees may have worn insignia and marched in protest to the transfers, which may have split up friends and family. Future data merging and cleanup is required to test that.\n",
    "\n",
    "Transfers, while not explicitly crimes, are listed under the NEW-OFFENSE category. This, in part, made us wonder if the transfers had some association to a prior offense. Alternatively, the transfers may have been included under the NEW-OFFENSE field out of recordkeeping convenience. The data for OTHER CASES Transfer Evacuees N. Dak, and OTHER CASES Transfer Evacuees Santa Fe required some cleanup. Similar categories provided by the faceted list—including facets with misspellings or synonymous terms—were identified then merged. The NEW-DATE field was narrowed to the date range of January 1, 1945 to December 31, 1945, when a vast majority of the transfers occurred.\n",
    "\n",
    "## Modeling: Computation and Transformation\n",
    "Our below computational data model follows the *Computational thinking in mathematics and science taxonomy* as developed by Weintrop et. al (2015). Within Data Practices, DP 3, DP 4 (Analyzing Data), and DP 5 are the most salient in relation to our narrative. We also engaged the first two [Modeling and Simulation Practices](https://cases.umd.edu/).\n",
    "\n",
    "### DATA PRACTICES\n",
    "**DP1 – Collecting Data**: Data was originally collected by administrators at internment camps.\n",
    "\n",
    "**DP2 – Creating Data**: Data was created by Denshō by scanning all of the cards, running Optical Character Recognition (OCR) software on all of the cards, then running Name Entity Recognition (NER) software to extract content. Extracted content was then structured using XML and inserted into a database (Marciano et al., 2019).\n",
    "\n",
    "**DP3 – Manipulating Data**: In our data manipulations, we identified the categories INFRACTION of Project Regulations, OTHER CASES Transfer Evacuees N. Dak, and OTHER CASES Transfer Evacuees Santa Fe as relevant to our computational model. After isolating these from the original dataset and faceting by date, we used RAWGraphs to visualize a) any correlations, b) the timeline of events, and c) the frequency distribution of incidents. One bee swarm-style and one matrix-style graph were used to achieve this. The final result showed some possible correlation between infractions and transfers, but not necessarily a strong one. The strongest correlation occurred in June 1945 between transfers to Santa Fe and incidents of infractions.\n",
    "\n",
    "**DP4 – Analyzing Data**: We looked for patterns in the data set by using Open Refine by browsing the data set using faceted terms. Once we were able to pick a topic and specific part of the dataset to explore, test visualizations in RAWGraphs were used to explore and analyze the data with the goal of meeting the objectives outlined in the above Objectives of the Computational Treatment section. Data visualizations were analyzed via email and through Zoom meetings to determine which ones best matched our objectives.\n",
    "\n",
    "**DP5 – Visualizing Data**: Analysis of our first visualization attempts provided enough conformity to our hypothesis that we decided to continue to refine our visualizations and to narrow our data set (the narrowed data set is the data set referred to throughout this document). We ultimately chose the following two visualizations: a Beeswarm Plot and a Matrix Plot. [AP]\n",
    "\n",
    "### MODELING AND SIMULATION PRACTICES\n",
    "**MS1 – Using Computational Models to Understand a Concept**: The visualizations of our data provided us with a method to interpret our data in the context of the hypothesis our narrative proposed.\n",
    "\n",
    "**MS2 – Using Computational Models to Find and Test Solutions**: The visualizations gave us a preliminary outcome to the hypothesis our narrative proposed. Although the outcome was not conclusive, it was enough information to determine if the hypothesis is worth further pursuit. [AP]\n",
    "\n",
    "## Modeling: Visualization\n",
    "Our beeswarm plot [FIGURE 1] compares three NEW-OFFENSE field categories—INFRACTION of Project Regulations (red dots), OTHER CASES Transfer Evacuees N. Dak. (blue dots), and OTHER CASES Transfer Evacuees Sante Fe (green dots)—across the 1945 calendar year in the x-axis. Each dot represents a single incident with the color matching the offense listed in the key in the top-right. The incidents clustered around two periods: January–March and June–July with some project regulation infractions in between. The first cluster shows a medium-sized transfer to Santa Fe, followed by a very large transfer to Bismark, a small number of project regulations infractions, followed by another transfer to Sante Fe, then more project regulations infractions. A very small number of project regulations infractions are scattered between the transfers. The second cluster shows a medium-sized transfer to Santa Fe, followed by a large number of project infractions, then then a smaller final transfer of evacuees to Bismarck. Both clusters demonstrate a significant number of project infractions occurring in the immediate wake of transfers. While this visualization may seem to provide some level of correlation, there is no way to prove causation. Additionally, there are some project infractions that occur in April and May that do not align with any transfer dates. This may indicate that there was some other factor affecting these project infractions. This is something that could potentially be explored in the data; alternatively, the data may provide no concrete explanation. [AP]\n",
    "\n",
    "Using a Matrix Plot [FIGURE 2], incidents (“Transfer to Santa Fe,” Transfer to Bismark,” and “Infraction of project regulations”) are placed along the x-axis, while the date incidents occurred are placed along the y-axis in ascending order. The type of incident is represented by color, while the frequency of an incident on a given date is represented by the size of its charted square. That demonstrates any possible alignment of dates between an infraction and a transfer, as well as the frequency distribution of incidents throughout the year.\n",
    "The matrix-style graph demonstrates that there is some correlation between when infractions happen and when transfers happen. However, the frequency of the incidents is not consistent around the same dates, suggesting that although the infractions may be related in some way to some of the transfers, they are not the driving force. The main exception to that occurs in June 1945, when there is a relatively equal number of transfers to Santa Fe and infraction incidents occurring around the same time. Those infractions happened after the transfer, which may suggest that the infractions may have occurred in reaction to the transfers. [MD] \n",
    "\n",
    "<img src=\"orangeFIG1.png\" alt=\"Beeswarm Plot\" title=\"FIGURE 1\">\n",
    "     \n",
    "<img src=\"orangeFIG2.png\" alt=\"Matrix Plot\" title=\"FIGURE 2\">\n"
   ]
  },
  {
   "cell_type": "markdown",
   "metadata": {},
   "source": [
    "# Ethics and Values Considerations\n",
    "Ethical considerations for this project include potential disagreement between privacy standards in the U.S. and Japan and the possible unwanted affiliation with past political activity for certain individuals. The likelihood that some of these internees may have gone on to become Japanese citizens presents a potential conflict in privacy standards between the U.S. and Japan in releasing these records to the public. Further exploration of this model may include isolating the infraction incidents to strictly those that are political or patriotic to Japan in nature, as well as identifying any other incidents related to the transfer of internees.\n",
    "\n",
    "Denshō is a non-profit corporation committed to the ethical preservation of the Japanese Americans' collective history and the “anxiety-inducing nightmare” (Maruyama & Maruyama, 2021) they endured as internees. Denshō ensures its contributors that every step is taken to ensure that personal information is protected and that personal interviews, artwork, photography, poetry, artwork, etc., are copyrighted based on the individuals' requests. [JMB]\n",
    "\n",
    "# Summary and Suggestions\n",
    "After producing an Excel spreadsheet with the necessary manipulations, we began producing visualizations. We made at least 20 total visualizations before selecting the two utilized in this paper. These two were chosen for their legibility and their conformity to our narrative goals. Our visualizations suggest a possible, rather than definitive, correlation between project infractions and transfers and warrant some further investigation. Again our visual as designed is the only basis for those inferences. To bolster our narrative, it may be beneficial to provide comparisons between transfers rates and other variables like acts of violence. If comparisons to other variables result in less compelling visualizations, then our narrative may seem more convincing. [AP]\n",
    "\n",
    "Additional research with primary sources could determine why these transfers happened. Was there a riot that caused these transfers? What was Army policy regarding transfers?  What percentage of transfers resulted from riots? [JMB]\n"
   ]
  },
  {
   "cell_type": "markdown",
   "metadata": {},
   "source": [
    "# References\n",
    "* Agarrat, S., Krauss, H., Mir, D., Pradhan, D., Suri, M., & Marciano, R. (2019). \"Resistance at Tule Lake: Connecting Events and People through Networks to Understand Japanese American Incarceration During World War II.\" Project poster. Retrieved from https://ai-collaboratory.net/projects/ct-ja_ww2_camps/digital-curation-students-and-filmmaker-event/\n",
    "* Burton, J.F., Farrell, M.M., Lord, F.B., & Lord, R.W. (2002). Confinement and ethnicity: An overview of World War II Japanese American relocation sites. University of Washington Press.\n",
    "* Denshō. (2020, June 15). Fort Lincoln (Bismarck) (detention facility). Densho Encyclopedia. [https://encyclopedia.densho.org/Fort%20Lincoln%20(Bismarck)%20(detention%20facility)](https://encyclopedia.densho.org/Fort%20Lincoln%20(Bismarck)%20(detention%20facility)) .\n",
    "* Marciano, R., Underwood, B., Wu, J., Diemand, K., Wilson, M., Atre, V., & Travis, D. (2019). \"1-Intro. WWII Japanese-American Camps (Citizen Internment).\" PPT lecture shared with EN. See https://ai-collaboratory.net/projects/ct-ja_ww2_camps/digital-curation-students-and-filmmaker-event/\n",
    "* Maruyama, H. & Maruyama, N. (2021, January 13). \"Episode five: Latrines.\" Campu Podcast and Education Hub. Denshō. https://densho.org/campu-latrines/ and https://densho.org/campu-education-hub/ \n",
    "* Weintrop, D., Beheshti, E., Horn, M., Orton, K., Jona, K., Trouille, T., & Wilensky, U. (2016, Feb.). Defining computational thinking for mathematics and science classrooms. Journal of Science Education and Technology 25(1), 127–147. https://doi.org/10.1007/s10956-015-9581-5\n",
    "* Wikipedia (2021). Internment of Japanese Americans. https://en.wikipedia.org/wiki/Internment_of_Japanese_Americans#cite_note-112"
   ]
  }
 ],
 "metadata": {
  "kernelspec": {
   "display_name": "Python 3",
   "language": "python",
   "name": "python3"
  },
  "language_info": {
   "codemirror_mode": {
    "name": "ipython",
    "version": 3
   },
   "file_extension": ".py",
   "mimetype": "text/x-python",
   "name": "python",
   "nbconvert_exporter": "python",
   "pygments_lexer": "ipython3",
   "version": "3.8.6"
  }
 },
 "nbformat": 4,
 "nbformat_minor": 4
}
