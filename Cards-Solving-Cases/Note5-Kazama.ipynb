{
 "cells": [
  {
   "cell_type": "markdown",
   "metadata": {},
   "source": [
    "# The Kazama Representatives Riot\n",
    "by KF, AR, SS Group Blue\n",
    "\n",
    "## Data Overview, Telling Our Story\n",
    "The purpose of this study is to (a) examine a set of incident cards relating to a riot that was reported to be started by the Kazama Representatives that took place in Tule Lake on November 4, 1943, and (b) reconstruct and create a timeline of the events that took place. Seven men were identified as members of this group, and they were suspected as the cause of a riot after threatening and assaulting a government official over a camera as the employee was taking photographs of an unauthorized outdoor funeral. We wondered if it was possible to reconstruct the events of that riot based on the information contained within the cards, including what happened to the individuals involved afterwards.\n",
    "\n",
    "The computational models to be carried out are manipulation, analysis, and visualization. Manipulation consisted of organizing the data given. The analysis consisted of using the manipulations to create a story based on the patterns found. Finally, we used our analysis to create a visual timeline of the story. Following a farm truck casualty, there were two incidents that led to the arrests and investigations of the members in the Kazama Representatives. Our data shows a gap of information from the time of their arrest to their release and further study will need to be conducted in order to find this information. "
   ]
  },
  {
   "cell_type": "markdown",
   "metadata": {},
   "source": [
    "## Dataset Exploration related to Scale and Levels within Collection \n",
    "During an initial review of the incident cards there were content patterns that stood out to us, and led us to focusing on the Kazama Representatives. The first was that the Kazama Representatives were the source of numerous cards that were categorized as riots, but upon closer inspection did not fit the typical description of a riot. Second, was that Box 10 in particular was focused on these riots and on the individuals who were involved. Other content patterns that stood out to us were property losses, thefts, assaults, gambling rings, and radio confiscations. \n",
    "\n",
    "## Data Cleaning and Preparation \n",
    "In thinking about the needs of the user, we determined that the best way to sift through the dataset was to use OpenRefine to filter through it and find our specific event. To do this, we manipulated text facets in both the “NEW-OFFENSE” and “NAME category.” We manipulated the data by changing different text facets to produce a concrete data set that included all possible spellings of the names of people reported as being a part of the organization. We also included areas in which the individuals were detained.\n",
    "\n",
    "Once OpenRefine was able to help filter for the desired event, we would consult the Access to Archival Databases (AAD) for more background information about the individuals involved. \n",
    "\n",
    "## Modeling: Computation and Transformation\n",
    "From the manipulation we found that there were nine members of the Kazama Representatives and they were listed by importance:\n",
    "    \n",
    "1. George Kuratomi\n",
    "2. Reverend Kai\n",
    "3. *Either Tomio Kazama and Tetsuo Abe*\n",
    "4. Hiyashi\n",
    "5. Kobayashi Yukio\n",
    "6. *Either Tomio Kazama and Tetsuo Abe*\n",
    "7. Mikio R. Yamamoto\n",
    "8. Hyakutaro Mori\n",
    "\n",
    "The third and sixth important member of the group was not found in the data but could either be Kazama himself, or another listed member named Tetsuo Abe. \n",
    "\n",
    "We also practiced one Modeling and Simulation Practice (MS4): designing computational models. The timeline was created to not only visualize the story of the Kazama Representatives, but also demonstrate how investigations were conducted by the camp. It also leads to further questions of what more research could be done to clarify and improve the timeline itself.\n",
    "\n",
    "## Modeling: Visualization\n",
    "With the manipulations, we analyzed the contents of the index cards to create our visualization and came to the conclusion that the Kazama Representatives were a high level interest of the camp’s director. The program we used to create our timeline to visualize and understand the results produced through the manipulations was **Smartdraw**. \n",
    "\n",
    "<img src=\"blueFIG1.jpg\" alt=\"Smartdraw timeline\" title=\"FIGURE 1\">"
   ]
  },
  {
   "cell_type": "markdown",
   "metadata": {},
   "source": [
    "## Ethics and Values Considerations\n",
    "There are advantages and disadvantages when discussing whether or not these incident cards should be made accessible for the general public, because of the personal nature and information that is included. At this time, these cards are not widely available to the public, though they have reached the 75 year mark, making them available for some to view.\n",
    "\n",
    "## Summary and Suggestions\n",
    "Although not all members were located in the AAD database, it showed that these individuals were a part of the relocation project from Jerome, AR. The Jerome War Relocation Center was a Japanese American internment camp located near the town of Jerome in southeastern Arkansas. Further research into their time at this camp could create even more background on the individuals and the group. Some questions that arise are if the group was formed before arriving at Tule Lake or if because of their background of Jerome, they were inclined to group together and form the Kazama Representatives in response to the farm truck casualty?\n",
    "\n",
    "With more time and various resources, the timelines of each individual listed as part of the Kazama Representatives could be constructed. Then, this would create a coexisting timeline to produce the complete story of the individuals and the group. Further manipulation of the data could add information regarding if the farm funeral incident is the same as the camera incident as well as events that occurred between the arrests and the releases of these individuals. "
   ]
  },
  {
   "cell_type": "markdown",
   "metadata": {},
   "source": [
    "## Reference\n",
    "* NARA. (2021). “Fielded Search: File unit: [Japanese-American Internee Data File], 1942 – 1946.” Access to Archival Databases (AAD). https://aad.archives.gov/aad/fielded-search.jsp?dt=3099&tf=F&cat=WR26&bc=,sl"
   ]
  }
 ],
 "metadata": {
  "kernelspec": {
   "display_name": "Python 3",
   "language": "python",
   "name": "python3"
  },
  "language_info": {
   "codemirror_mode": {
    "name": "ipython",
    "version": 3
   },
   "file_extension": ".py",
   "mimetype": "text/x-python",
   "name": "python",
   "nbconvert_exporter": "python",
   "pygments_lexer": "ipython3",
   "version": "3.8.6"
  }
 },
 "nbformat": 4,
 "nbformat_minor": 4
}
