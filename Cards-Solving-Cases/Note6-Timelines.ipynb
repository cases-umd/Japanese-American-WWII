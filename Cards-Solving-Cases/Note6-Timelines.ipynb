{
 "cells": [
  {
   "cell_type": "markdown",
   "metadata": {},
   "source": [
    "# Personal Timelines from the Japanese American WWII Camp in Tule Lake\n",
    "by GB, ZC, AT Group Violet\n",
    "\n",
    "## Data Overview, Telling Our Story\n",
    "The present study sought to investigate the activities of two particularly prominent Tule Lake Internees. The Wartime Relocation Authority (WRA) created and documented a network of 10 detention sites across mainland US and Hawai’i to hold non-American Japanese immigrants, the largest being Tule Lake. The Tule Lake records consist of 10,000 incident cards involving a multitude of individuals. As a group, we determined that events occurred with the involvement of individuals “Kai” and “Kuratomi” through repetition of their names, and we mined the information about their involvement. We can assist the user researching an individual.\n",
    "\n",
    "In essence our incident card dataset functions as a form of recordkeeping for the creation of criminal records within the internment camp. Each incident card comprises a set of identifying features which include; the incident date, the case ID of the alleged incident, the type of offense committed, the name of the perpetrator or witness, family ID, residence ID, and an area for further elaboration on the details and pertinent information relating to the offense. In the (EN) effort to datafy these incident cards, additional categories have been added to the record to make them accessible and retrievable by interested parties: a digital box folder and JPEG file number.\n",
    "\n",
    "Form 26 was an intake form that had a questionnaire on every person who was incarcerated in the camps. Initially, the handwritten information from these cards was keyed into two sets of punch cards with varying accuracy levels and completed in 1943. In the 1960s, the National Records and Archives Administration migrated the information from punch card data to microfilm. In the 1970s, the United States government acknowledged the race prejudice and wartime fears (ESRI, 2017), and third-generation Japanese immigrants expressed their interest in collecting the stories of their ancestors.  A pilot project began in 2013 to address the issues and quality of information to normalize and consolidate the information into one unified source. Currently, Denshō, a digital archive founded by members of the Japanese American Community in 1996, is working to capture and utilize the stories from the records."
   ]
  },
  {
   "cell_type": "markdown",
   "metadata": {},
   "source": [
    "## Dataset Exploration related to Scale and Levels within Collection \n",
    "For our computational model, we chose to follow two individuals: Shizuo Kai and George Toshio Kuratomi. While they appear a number of times on the dataset, the vast majority of their mentions are in relation to a riot which took place on November 4th, 1943. They also appear a number of times in the ‘OTHER’ column, though the information provided is not often clear. We noticed a large amount of other inmates mentioning them at later dates in interviews, though many of these occurrences were not dated. For that reason, we chose to tell the story of these two individuals who had become leaders among the imprisoned, and manipulated the dataset and visualization to reflect that. Further research shows that they were two of seven in the Daihyo Sha Kai Negotiating Committee, and were contributing factors of a hunger strike throughout 1944. All told, we chose to focus on their inclusion in the riot and hunger strike, as well as a small number of mentions from other prisoners.\n",
    "\n",
    "## Data Cleaning and Preparation \n",
    "Within the dataset, the manipulations we made were relatively few. Though we tried initially to use Microsoft Excel, the sheer size of the file proved too unwieldy and it was difficult to navigate. First and foremost, using OpenRefine text facets we narrowed down results and sorted by highest ‘count’, and then proceeded to standardize names for easier sorting. After that, it became apparent that two individuals were heavily involved in a large scale riot which took place on November 4th, 1943, as they appeared in the dataset a combined 143 times. We narrowed the ‘NAME’ column to reflect only ‘Shizuo Kai’ and ‘George Toshio Kuratomi’ but also used OpenRefine’s ‘cluster’ feature to standardize their names to ‘Kai, Shizuo’ and ‘Kuratomi, George Toshio’. Following that text facet, we further narrowed down our results by limiting the ‘DATE’ column to 43-11-4 (November 4th, 1943)- which had the most entries for both Kai and Kuratomi. This did not require further manipulation, as of the 143 entries, only 2 were written in a different format. Finally, we showed a text facet for ‘RIOT’ under the ‘OFFENSE’ column just to be certain the information was accurate. All 143 offenses for ‘Kai, Shizuo’ and ‘Kuratomi, George Toshio’ on ‘43-11-4’ were listed as ‘RIOT’. We had obtained our model’s starting point.\n",
    "\n",
    "## Modeling: Computation and Transformation\n",
    "The computational model we elected to use for this project was an interactive timeline to show several events centered around two individuals held in Camp Tule in 1943 and 1944. Not only were they directly involved with two main incidents mentioned within the records provided, they were also mentioned repeatedly by other inmates and noted in the records. For this reason, we felt a timeline to show both the incidents as well as several mentions would be most appropriate for this visualization. \n",
    "\n",
    "In removing the date and offense text facets, we were able to browse through the dataset’s ‘OTHER’ column to consider how else they may have been involved. Mostly it became clear that both Kai and Kuratomi were well-known by the other prisoners, and were mentioned by several people during interviews as being involved with both the riot and other offenses. To create the model, we utilized an open source website known as timeline.knightlab.com. TimelineJS provided detailed instructions and a Google Sheets page where the information we wanted to include was entered and then transformed into a timeline.\n",
    "\n",
    "## Modeling: Visualization\n",
    "All of the above information led us to create a computational timeline model which highlights the two main events – the riot of 1943 and the hunger strike of 1944 – as well as several other mentions of Kai and Kuratomi in the dataset that happened at later dates. Those mentions were brief, and some appeared multiple times in the dataset, but we felt they were worthy of inclusion as it gave a broader scope into how active they both were within Tule Lake. We chose a timeline because it seemed the most appropriate model given the events and mentions happened within an eight month period. The visualization can be seen through this link:\n",
    "https://cdn.knightlab.com/libs/timeline3/latest/embed/index.html?source=1DrtCM7E7V1cD7o-IYY_h-_80UrmMKg7VZPWmW6maXys&font=Default&lang=en&initial_zoom=0&height=650 ."
   ]
  },
  {
   "cell_type": "markdown",
   "metadata": {},
   "source": [
    "## Ethics and Values Considerations\n",
    "The examination of Japanese internment incident records is fraught with ethical and bias considerations. When examining records such as these, it's important to consider that the data may not have been collected from willing participants or collaborators. The internment incident cards and the stories they inform were constructed by persons without intimate knowledge of their subjects. Instead, these cards served as a way of tracking the alleged crimes and transgressions of interned persons. As such, the records' power dynamic is entirely one-sided, heavily skewed towards those in power. Therefore, we must be keenly aware of the inevitable bias behind the incident cards. Indeed, no record, written material, or human creation, for that matter, is truly unbiased. \n",
    "\n",
    "Such issues of perception are extremely apparent in the text of the incident cards. As records, the cards were created under the impetus that the interned Japanese Americans were dangerous and liable to cause disturbances or otherwise threaten the U.S. war effort. Therefore, these records are distorted by a belief in the supposed traitorous nature of interned Japanese Americans. Under scrutiny, the omnipresence of a mind-made-up attitude within the records is clearly visible. The most glaring issue that evidenced this predisposition is the use of \"riot\" to classify the nature of the disturbances. Unsurprisingly, \"riot\" is the most cited offense in the records, used to describe nearly 3,900 accounts out of 15,000 incidents records. Even by 1940s standards, it is highly doubtful that even a fraction of the cited incidents of \"riot\" could truly be considered such. It's much more plausible that \"riot\" was assigned liberally as a catch-all term to describe any offense considered to resist the power structure of the internee-overseer relationship. The obvious conclusion is then to use extreme scrutiny when estimating the factuality of cited \"riots.\" [GB] \n",
    "\n",
    "## Summary and Suggestions\n",
    "In this analysis, only two individuals – George Toshio Kuratomi and Shizuo Kai – of the seven-man Daihyo Sha Kai committee were under consideration. In looking at the incident cards, it is clear that a fuller picture of camp activity, particularly regarding resistance and inmate agency, would require an examination of the remaining five individuals. As far as this project can determine, the remaining five committee members could include Isamu Uchida, Isamu Sugimoto, Masaru Nakao, Tom Yoshio Kobayashi, Ichiro Hayashi, Mikio Yamamoto, and Mitsuho Kimura.\n",
    "\n",
    "The list of potential members is understandably confusing, since those recording the incident cards themselves were unsure of who exactly represented the Daihyo Sha Kai. Based on a detailed reading of the records and the confirming opinions of an internment article (Takei, 2013), this group feels comfortable confirming that Shuzio Kai, Toshio Kuratomi, Isamu Sugimoto, Ichiro Hayashi, and Mitsuho Kimura were all committee members of the Daihyo Sha Kai. Of particular note is the fact that most of the above names are signees to a hunger strike partition written in late 1943 (Denshō, 1943). A future avenue of research could investigate the persons rounding out the last twenty or so names, as many of them are frequently mentioned in the incident cards. Future analysis of the incident cards might inquire into the activities of the aforementioned Daihyo Sha Kai committee members whose names were beyond the scope of the present study. \n",
    "\n",
    "While the two individuals chosen are without a doubt essential figures in the resistance, the lack of a board analysis, which considers other agents, could paint an incomplete picture of resistance in the camp. In addition, only incident cards originating from Tule Lake (boxes 8-21) were examined. It is possible that Kai and Toshio Kuratomi had prior activity in other camps before being deported to Tule Lake. A future project might explore the remaining seven boxes to glean a more nuanced understanding."
   ]
  },
  {
   "cell_type": "markdown",
   "metadata": {},
   "source": [
    "## Reference\n",
    "* Denshō (digitizer). (1943, December 31). \"List of Hunger Strike Participants in Tule Lake Stockade (digital image).\" *Densho Digital Repository*. Retrieved from https://ddr.densho.org/ddr-densho-188-7/ \n",
    "* ESRI. (2017). *Justice Deferred: Executive Order 9066 and the geography of Japanese American imprisonment*. Retrieved from http://arcg.is/1j9PDb\n",
    "* Takei, Barbara. (2020, October 16). \"Tule Lake.\" *Densho Encyclopedia*. Retrieved from https://encyclopedia.densho.org/Tule%20Lake"
   ]
  }
 ],
 "metadata": {
  "kernelspec": {
   "display_name": "Python 3",
   "language": "python",
   "name": "python3"
  },
  "language_info": {
   "codemirror_mode": {
    "name": "ipython",
    "version": 3
   },
   "file_extension": ".py",
   "mimetype": "text/x-python",
   "name": "python",
   "nbconvert_exporter": "python",
   "pygments_lexer": "ipython3",
   "version": "3.8.6"
  }
 },
 "nbformat": 4,
 "nbformat_minor": 4
}
