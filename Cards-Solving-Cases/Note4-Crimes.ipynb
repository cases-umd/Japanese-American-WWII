{
 "cells": [
  {
   "cell_type": "markdown",
   "metadata": {},
   "source": [
    "# Internee Joe Norikane and Naming Crimes on Native Lands\n",
    "by DJ, HO, TS Group Green and JA, HB, SC Group Pink \n",
    "\n",
    "## Data Overview, Telling Our Story\n",
    "Following Pearl Harbor, the political views of American citizens had polarized to a point that caused Japanese-Americans to experience immense turmoil and prejudice. Those who were not first-generation Asian-American immigrants were ineligible for naturalization in the United States. This would also affect second-generation Asian-Americans as they were unable to cope with the jeopardization of their citizenship. Ultimately, all generations were placed within internment camps to be closely monitored by the United States government. There were over 17,000 Japanese citizens that were sent to the Poston Relocation Center on the Colorado River Indian Reservation. Over 13,000 Japanese citizens were sent to the Gila River War Relocation Center on the Gila River Indian Reservation where they would reside from 1942-1945. Now, because the camps were constructed upon Native American reservations, the treatment of the Japanese had unsettled many Native-American tribes. This was because these camps were built upon their land without their consent and they felt this situation was similar to the persecution they experienced by the United States (Frank, 2017). \n",
    "\n",
    "Ultimately we were able to see the chronological distribution of incidents in the internment camps, the number of petty versus legitimate incidents, and of property versus interpersonal incidents. We observe that interpersonal and property incidents happened at similar rates, but petty incidents were far more common than legitimate incidents. That gives us insight into the treatment of various events in the camps, as well as how administrative workers handled different severity levels within records."
   ]
  },
  {
   "cell_type": "markdown",
   "metadata": {},
   "source": [
    "## Dataset Exploration related to Scale and Levels within Collection \n",
    "It was important to thoroughly examine at least a portion to come up with narratives and questions. Initially, it was discovered that each box or couple of boxes contained different locations. The first task was to narrow this down to a certain area or couple of boxes. Boxes Two and Three (total 2,442 files spanning five years) were chosen with an emphasis on the two camps in Arizona.\n",
    "    \n",
    "Here we made individual discoveries of repeated behaviors and unusual instances such as theft, trespassing, and vandalism, and that the reasons why these actions were recorded appeared to range rather widely. Our interests were piqued by a large amount of minor, non-offense incidents that seemed too insignificant to have an incident card or report filed, as well as miscellaneous legal or administrative notes. We also noticed that various Japanese-Americans adopted American names. We wondered whether Gambling was considered legitimate or petty at the time. Finally some of the younger internees are recorded to have stolen equipment like fence posts to play American baseball. Yet such anecdotes require computational study of our patterns drawn, duplicates found, and observations made on the most frequent occurrences.\n",
    "\n",
    "## Data Cleaning and Preparation \n",
    "The Poston cards had WRA filings by category, and Complainants alphabetized. Under WRA, >Lost & Found< and >Violations Project< had the most items, however, many items were misplaced in the latter instead of in >Theft<, or in >Burglary<. Many Lost items included small personal belongings, while Theft often involved construction materials. >Other< encompassed quite a bit too: fires, malicious mischief are some of the bigger contexts. The >Suicide Attempts< category is small. There is documentation of animals, primarily dogs (rabies, attacks, muzzling), in the camps. Under Complainant names, K, M, T, Y had the most records in Gila and S, T, Y for Poston.\n",
    "In order to best facilitate communication between our group we utilized the following software:\n",
    "\n",
    "* Excel/Google Sheets - Data collection\n",
    "* Google Docs - Report curation\n",
    "* Box (Software) - Containing the cards\n",
    "* Zoom - Communication with Denshō and project members\n",
    "\n",
    "Through Excel/Google Sheets we were able to share and input the data between our members. Thanks to data manipulation functions built into the software program it ensured that we were able to adjust data as it was being extrapolated and categorize incident cards accordingly. This made it exceptionally easy to address cards that may have contained contentious information and garner a group consensus on classifying each card. Also, Google Sheets gave us the needed structure to build our graphing models."
   ]
  },
  {
   "cell_type": "markdown",
   "metadata": {},
   "source": [
    "## Modeling: Computation and Transformation\n",
    "Popular <Theft> items included Bicycles, Cash, Cigarettes, Wristwatches, Buttons, Faucets, Fuse, and Lumber. In seeing frequent mentions of individuals caught with lumber on their person, we asked what was the value of lumber within the camps? Why was lumber constantly stolen? We might connect datapoints – were thefts meant to keep those in the camp warm during the winter months? Were the barracks poorly constructed to where there was no proper ventilation? Was there a monetary value to lumber within these camps? One source writes, “While the winter average temperatures were considered mild, temperatures could be uncomfortably cold, especially in barracks lacking insulation or even wall boards. Oil and kerosene stove installation did not begin until after cold weather arrived in late fall 1942 [Staff, 17 December 1942]. Until then, evacuees built outdoor bonfires out of scrap lumber to keep warm.” (Okimoto, 2001 cited in Lillquist 2007 “Poston,” 423). The dataset does a decent job with providing the date and year, as we present in FIGURE 1. While lumber was stolen primarily throughout the spring and summer months, a few cards report stolen lumber in the winter months. That made the group wonder as to whether lumber was stolen for other reasons besides simple necessity. [TS]\n",
    "\n",
    "I manually sorted the alphabetical items into their respective folders as well as the categorized items into their category markers. I started to rename the files based on what the incident card was about, but it was time-consuming even at small scale. [HO]\n",
    "\n",
    "Separately, we designed a computational model focused primarily on the prevalence of interpersonal versus property incidents, and whether those were deemed as legitimate offenses or petty incidents. Such comparisons were created using bar graphs to represent the incident card data. [JA]\n",
    "\n",
    "<img src=\"greenFIG1.png\" alt=\"lumber thefts\" title=\"FIGURE 1\">"
   ]
  },
  {
   "cell_type": "markdown",
   "metadata": {},
   "source": [
    "## Modeling: Visualization\n",
    "A new theme (and WRA filing category) discovered in Box 3 was the Selective Service violations. There was a group of Japanese men in the Colorado Relocation camps who frequently refused the World War II draft, for numerous reasons (see FIGURE 2).\n",
    "    \n",
    "Refusal of the draft was an important aspect that led our group to discover Joe Norikane. Outside research informed us of an interview Joe Norikane conducted with journalists in the early 2000s where he gave them a war diary he wrote throughout his entire internment in Amache, Colorado (Lyon, 2012; Robinson, 2013). According to the U.S. government, Norikane was a part of a group known as “draft resisters.” Whether only one Joe Norikane resided in the Amache camp is difficult to determine without a birthdate and further information. [TS]\n",
    "\n",
    "Graph A showcases the amount of incident cards per date. As evident from the scatterplot more incidents were reported in the early years of the camps. Graph A utilizes all 1,966 of our clean datapoints to reflect the sheer total of incidents reported. The peak incident day was 11-03-1942, with a substantial 35 incidents, representing approximately 2% of the data entered from the two boxes. On average, the number of incidents is closer reflected to two incidents per day.\n",
    "\n",
    "Graph B strictly shows the comparative relationship between interpersonal incidents or those focused around property. These two classifications were catch-all for numerous interactions. Indeed there were more property related incidents than between individuals, though they are closer in number than we originally hypothesized.\n",
    "\n",
    "In Graph C there is a more distinguishable comparison of incidents. Petty reports significantly outweighed that of legitimate reports. In fact, petty incident reports as recorded represent 63% of the cards. Furthermore we can roughly predict the outcome for the rest of the Boxes. Where interpersonal and property related incidents are more equally split, petty and legitimate incidents are far more likely to be reflected accurately in a predictive model. If 63% of our combined two boxes can be labeled as petty incidents then that would roughly translate into an estimated 19,845 total cards from the full 21 boxes ((21X1500)/.63)). [SC]\n",
    "     \n",
    "<img src=\"greenFIG2.png\" alt=\"draft resisters\" title=\"FIGURE 2\">\n",
    "\n",
    "<img src=\"pinkGraphA.png\" alt=\"incidents by date\" title=\"GRAPH A\">\n",
    "\n",
    "<img src=\"pinkGraphB.png\" alt=\"interpersonal and property\" title=\"GRAPH B\">\n",
    "    \n",
    "<img src=\"pinkGraphC.png\" alt=\"petty and legitimate\" title=\"GRAPH C\">"
   ]
  },
  {
   "cell_type": "markdown",
   "metadata": {},
   "source": [
    "## Ethics and Values Considerations\n",
    "There could be a lot of guilt and shame attached to these allegations, or incidents of their past. The cards contain personally identifiable information (PII), and we recorded pieces in our dataset. Some of the cards involved juveniles or contained medical information about a person. As our research was primarily concerned with the cited offenses and not who was involved, our report does not include names, dates of birth, gender, and other information. While some may argue that omitting personal information depersonalizes the data or constitutes a further erasure of a largely (purposefully) erased time in American history, we felt that it was more appropriate to present the data without such information, out of respect for the individuals on the cards (whose presence in the camps and therefore the recording of their information was not done willingly) and their families.\n",
    "\n",
    "The events occurred nearly one hundred years ago, and as such, our current values and how we might judge a situation could vary from what was presented on the cards. We attempted to be consistent in how we applied certain labels, and we used the language present on the cards to transcribe the incidents. Notable examples of this are the cards labeled “insanity” or that involved an “Indian.” Today, we would not use that language, but in the 1940s, it was perfectly acceptable. That becomes an ethical issue as well, in that we wanted to preserve the language of the cards as they were, rather than “correct” them. Categorizing the incidents as either “petty” or “legitimate” replicates those words’ inherent moral judgment. It was often difficult to separate incidents into the binary we created, and we did not discuss each item together. We looked into legal aspects for many types of incidents, such as gambling--which we then categorized as “legitimate,” since it would have been illegal at the time the cards were created (though based on modern legal literature: Colorado.gov, 2014).\n",
    "\n",
    "## Summary and Suggestions\n",
    "We decided to categorize the incidents so that they could be plotted across four quadrants: interpersonal vs. property and legitimate vs. petty. An example of each possibility is listed below:\n",
    "\n",
    "* Interpersonal and legitimate: a violation of the selective service act that resulted in one year of federal prison.\n",
    "* Interpersonal and petty: a complaint about wardens making too much noise.\n",
    "* Property and petty: a lost fountain pen.\n",
    "* Property and legitimate: crashing into and therefore damaging a gate and an ambulance, then obstructing the police.\n",
    "\n",
    "Unfortunately, due to time constraints and messy data, we were unable to fully complete those visualizations. However, categorizing the incidents provided much useful information even without more resources. An ultimate goal would be to organize the data according to the date of the incident onto a multi-tiered scatter plot, with the four quadrants interpersonal vs. property on one axis and legitimate vs. petty on the other axis. \n",
    "\n",
    "There were a number of cards that contained typing errors which were later corrected with a new card, but both cards were in the available data. We labeled these as duplicates, but it is certainly possible we did not catch every instance. In addition, there were multiple cards created for the same event with a different individual cited. Due to the way the cards were organized, these cards could be in completely different sections (one could be under “gambling” and list one person’s name, another could fall under the “H” surname alphabetical marker). To further complicate this, some cards were missing dates (one of the best ways to check for duplicate events). Ensuring that we only counted events once would be another area of future work. Creating set language – to avoid multiple labels like “missing person” and “lost child” for the same category – to use in the data might be helpful moving forward. Clarifying the legal differences between terms like theft, burglary, larceny, and petty theft could also provide some guidance and consistency in labeling and then visualizing different types of incidents. Cards would often indicate if the matter had been resolved, or cite an investigative report. Tracking which types of incidents were resolved would surely be another way to gain insight from the data. Finally, we could both expand our scope (more boxes) and reduce it (only consider lost property). Additional bar graph models could be created in the future, comparing incidents with men versus women or adults versus juveniles.\n",
    "\n",
    "A few unanswered questions include: why at random are there a few blue cards? From an administrative standpoint why did they not better sort by category? Were the duplicates intentional? Why the focus on criminal activity? More usefully, given our alphabetical names we can now commence a chronological timeline of crime events to try to draw further connections, and/or further research the people’s lives (their ages). The cards only suggest piecemeal reasoning for some of these actions and lack information on camp conditions. "
   ]
  },
  {
   "cell_type": "markdown",
   "metadata": {},
   "source": [
    "## References\n",
    "* Colorado.gov (2014). \"Felonies and misdemeanors by crime type.\" Retrieved from http://www.colorado.gov/pacific/sites/default/files/14%20COMBINED%20CRIMES.pdf \n",
    "* Frank, B. J. (2017, January 30). \"5 things to know about Arizona's World War II internment camps.\" Azcentral. Retrieved from https://www.azcentral.com/story/news/local/chandler/2017/01/30/5-things-know-arizonas-world-war-ii-internment-camps/96965004/\n",
    "* Lillquist, K. (2007). *Imprisoned in the Desert: The Geography of World War II-Era, Japanese American Relocation Centers in the Western United States*. OER hosted by Central Washington University, Department of Geography. https://www.cwu.edu/geography/geography-japanese-american-relocation-centers \n",
    "* Lyon, C.M. (2012, July 26). \"Searching for the Roots of Resistance.\" Discover Nikkei. Retrieved from http://www.discovernikkei.org/en/journal/2012/7/26/roots-of-resistance/\n",
    "* Robinson, G. (2013, June). Reviewed Work: Prisons and Patriots: Japanese American Wartime Citizenship, Civil Disobedience, and Historical Memory by Cherstin M. Lyon. Reviews in American History 41(2): 312-317. https://www.jstor.org/stable/43661549"
   ]
  }
 ],
 "metadata": {
  "kernelspec": {
   "display_name": "Python 3",
   "language": "python",
   "name": "python3"
  },
  "language_info": {
   "codemirror_mode": {
    "name": "ipython",
    "version": 3
   },
   "file_extension": ".py",
   "mimetype": "text/x-python",
   "name": "python",
   "nbconvert_exporter": "python",
   "pygments_lexer": "ipython3",
   "version": "3.8.6"
  }
 },
 "nbformat": 4,
 "nbformat_minor": 4
}
