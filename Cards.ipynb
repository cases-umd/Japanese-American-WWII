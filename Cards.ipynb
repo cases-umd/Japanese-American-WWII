{
 "cells": [
  {
   "cell_type": "markdown",
   "metadata": {},
   "source": [
    "# Exploring Incident Cards\n",
    "The second dataset that we will examine is the data that was created second and it comes from so-called incident cards. The file [Cards_Box9.csv](Cards_Box9.csv) was produced from scanned images of index cards take from Box 9 of the NARA archival series. The scanned images were then processed through Optical Character Recognition (OCR) software to produce plain text. Later this plain text was parsed into separate fields through a named entity recognition process (NER).\n",
    "\n",
    "Here is an example image of an incident card, with some information redacted:\n",
    "\n",
    "<img src=\"incident-card.png\"/>\n",
    "\n",
    "Our first step in exploring this data is to load the file into a Pandas data frame."
   ]
  },
  {
   "cell_type": "code",
   "execution_count": 1,
   "metadata": {},
   "outputs": [],
   "source": [
    "# Loading the Data\n",
    "import pandas as pd\n",
    "\n",
    "# Read the CSV file into a Pandas data frame:\n",
    "data_Card = pd.read_csv(\"Cards_Box9.csv\")"
   ]
  },
  {
   "cell_type": "markdown",
   "metadata": {},
   "source": [
    "Now that the data is loaded, the code below will show you the first three rows of index card data, as printed out by the Pandas head() function."
   ]
  },
  {
   "cell_type": "code",
   "execution_count": 2,
   "metadata": {},
   "outputs": [
    {
     "data": {
      "text/html": [
       "<div>\n",
       "<style scoped>\n",
       "    .dataframe tbody tr th:only-of-type {\n",
       "        vertical-align: middle;\n",
       "    }\n",
       "\n",
       "    .dataframe tbody tr th {\n",
       "        vertical-align: top;\n",
       "    }\n",
       "\n",
       "    .dataframe thead th {\n",
       "        text-align: right;\n",
       "    }\n",
       "</style>\n",
       "<table border=\"1\" class=\"dataframe\">\n",
       "  <thead>\n",
       "    <tr style=\"text-align: right;\">\n",
       "      <th></th>\n",
       "      <th>Box #</th>\n",
       "      <th>Not Inmate</th>\n",
       "      <th>Last Name</th>\n",
       "      <th>First Name</th>\n",
       "      <th>Other Name</th>\n",
       "      <th>Date</th>\n",
       "      <th>Year</th>\n",
       "    </tr>\n",
       "  </thead>\n",
       "  <tbody>\n",
       "    <tr>\n",
       "      <th>0</th>\n",
       "      <td>Box9-0788.jpg</td>\n",
       "      <td>NaN</td>\n",
       "      <td>Enomoto</td>\n",
       "      <td>Masanobu</td>\n",
       "      <td>NaN</td>\n",
       "      <td>7/21/42</td>\n",
       "      <td>1942</td>\n",
       "    </tr>\n",
       "    <tr>\n",
       "      <th>1</th>\n",
       "      <td>Box9-0692.jpg</td>\n",
       "      <td>NaN</td>\n",
       "      <td>Ebesu</td>\n",
       "      <td>Kikumatsu</td>\n",
       "      <td>NaN</td>\n",
       "      <td>7/24/42</td>\n",
       "      <td>1942</td>\n",
       "    </tr>\n",
       "    <tr>\n",
       "      <th>2</th>\n",
       "      <td>Box9-0642.jpg</td>\n",
       "      <td>NaN</td>\n",
       "      <td>Doi</td>\n",
       "      <td>Satomi</td>\n",
       "      <td>NaN</td>\n",
       "      <td>8/6/42</td>\n",
       "      <td>1942</td>\n",
       "    </tr>\n",
       "  </tbody>\n",
       "</table>\n",
       "</div>"
      ],
      "text/plain": [
       "           Box # Not Inmate Last Name First Name Other Name     Date  Year\n",
       "0  Box9-0788.jpg        NaN   Enomoto   Masanobu        NaN  7/21/42  1942\n",
       "1  Box9-0692.jpg        NaN     Ebesu  Kikumatsu        NaN  7/24/42  1942\n",
       "2  Box9-0642.jpg        NaN       Doi     Satomi        NaN   8/6/42  1942"
      ]
     },
     "execution_count": 2,
     "metadata": {},
     "output_type": "execute_result"
    }
   ],
   "source": [
    "# Show the first three rows\n",
    "data_Card.head(3)"
   ]
  },
  {
   "cell_type": "markdown",
   "metadata": {},
   "source": [
    "Next we call a few other Pandas Data Frame functions. For more information about Pandas data frames, see the documentation:\n",
    "* https://pandas.pydata.org/pandas-docs/stable/reference/frame.html"
   ]
  },
  {
   "cell_type": "code",
   "execution_count": 3,
   "metadata": {},
   "outputs": [
    {
     "data": {
      "text/html": [
       "<div>\n",
       "<style scoped>\n",
       "    .dataframe tbody tr th:only-of-type {\n",
       "        vertical-align: middle;\n",
       "    }\n",
       "\n",
       "    .dataframe tbody tr th {\n",
       "        vertical-align: top;\n",
       "    }\n",
       "\n",
       "    .dataframe thead th {\n",
       "        text-align: right;\n",
       "    }\n",
       "</style>\n",
       "<table border=\"1\" class=\"dataframe\">\n",
       "  <thead>\n",
       "    <tr style=\"text-align: right;\">\n",
       "      <th></th>\n",
       "      <th>Year</th>\n",
       "    </tr>\n",
       "  </thead>\n",
       "  <tbody>\n",
       "    <tr>\n",
       "      <th>count</th>\n",
       "      <td>113.0</td>\n",
       "    </tr>\n",
       "    <tr>\n",
       "      <th>mean</th>\n",
       "      <td>1943.0</td>\n",
       "    </tr>\n",
       "    <tr>\n",
       "      <th>std</th>\n",
       "      <td>0.5</td>\n",
       "    </tr>\n",
       "    <tr>\n",
       "      <th>min</th>\n",
       "      <td>1942.0</td>\n",
       "    </tr>\n",
       "    <tr>\n",
       "      <th>25%</th>\n",
       "      <td>1943.0</td>\n",
       "    </tr>\n",
       "    <tr>\n",
       "      <th>50%</th>\n",
       "      <td>1943.0</td>\n",
       "    </tr>\n",
       "    <tr>\n",
       "      <th>75%</th>\n",
       "      <td>1943.0</td>\n",
       "    </tr>\n",
       "    <tr>\n",
       "      <th>max</th>\n",
       "      <td>1944.0</td>\n",
       "    </tr>\n",
       "  </tbody>\n",
       "</table>\n",
       "</div>"
      ],
      "text/plain": [
       "         Year\n",
       "count   113.0\n",
       "mean   1943.0\n",
       "std       0.5\n",
       "min    1942.0\n",
       "25%    1943.0\n",
       "50%    1943.0\n",
       "75%    1943.0\n",
       "max    1944.0"
      ]
     },
     "execution_count": 3,
     "metadata": {},
     "output_type": "execute_result"
    }
   ],
   "source": [
    "data_Card.describe()  # basic numeric and object stats"
   ]
  },
  {
   "cell_type": "code",
   "execution_count": 4,
   "metadata": {},
   "outputs": [
    {
     "data": {
      "text/plain": [
       "2"
      ]
     },
     "execution_count": 4,
     "metadata": {},
     "output_type": "execute_result"
    }
   ],
   "source": [
    "data_Card.ndim  # how many dimensions are there?"
   ]
  },
  {
   "cell_type": "code",
   "execution_count": 5,
   "metadata": {},
   "outputs": [
    {
     "data": {
      "text/plain": [
       "(113, 7)"
      ]
     },
     "execution_count": 5,
     "metadata": {},
     "output_type": "execute_result"
    }
   ],
   "source": [
    "data_Card.shape  # how many row and columns are there? (length in each dimension)"
   ]
  },
  {
   "cell_type": "code",
   "execution_count": 6,
   "metadata": {},
   "outputs": [
    {
     "data": {
      "text/plain": [
       "Box #         object\n",
       "Not Inmate    object\n",
       "Last Name     object\n",
       "First Name    object\n",
       "Other Name    object\n",
       "Date          object\n",
       "Year           int64\n",
       "dtype: object"
      ]
     },
     "execution_count": 6,
     "metadata": {},
     "output_type": "execute_result"
    }
   ],
   "source": [
    "data_Card.dtypes  # what data types are detected in each column?"
   ]
  },
  {
   "cell_type": "markdown",
   "metadata": {},
   "source": [
    "You can also summarize the data from individual columns, like this:"
   ]
  },
  {
   "cell_type": "code",
   "execution_count": 7,
   "metadata": {},
   "outputs": [
    {
     "data": {
      "text/plain": [
       "1943    85\n",
       "1944    14\n",
       "1942    14\n",
       "Name: Year, dtype: int64"
      ]
     },
     "execution_count": 7,
     "metadata": {},
     "output_type": "execute_result"
    }
   ],
   "source": [
    "data_Card['Year'].value_counts()  # Counts for each distinct value in \"Year\" column"
   ]
  },
  {
   "cell_type": "code",
   "execution_count": 8,
   "metadata": {},
   "outputs": [
    {
     "data": {
      "text/html": [
       "<div>\n",
       "<style scoped>\n",
       "    .dataframe tbody tr th:only-of-type {\n",
       "        vertical-align: middle;\n",
       "    }\n",
       "\n",
       "    .dataframe tbody tr th {\n",
       "        vertical-align: top;\n",
       "    }\n",
       "\n",
       "    .dataframe thead th {\n",
       "        text-align: right;\n",
       "    }\n",
       "</style>\n",
       "<table border=\"1\" class=\"dataframe\">\n",
       "  <thead>\n",
       "    <tr style=\"text-align: right;\">\n",
       "      <th></th>\n",
       "      <th>Box #</th>\n",
       "      <th>Not Inmate</th>\n",
       "      <th>Last Name</th>\n",
       "      <th>First Name</th>\n",
       "      <th>Other Name</th>\n",
       "      <th>Date</th>\n",
       "      <th>Year</th>\n",
       "    </tr>\n",
       "  </thead>\n",
       "  <tbody>\n",
       "    <tr>\n",
       "      <th>110</th>\n",
       "      <td>Box9-1021.jpg</td>\n",
       "      <td>NaN</td>\n",
       "      <td>Fujii</td>\n",
       "      <td>Biichi</td>\n",
       "      <td>NaN</td>\n",
       "      <td>3/7/44</td>\n",
       "      <td>1944</td>\n",
       "    </tr>\n",
       "    <tr>\n",
       "      <th>111</th>\n",
       "      <td>Box9-1053.jpg</td>\n",
       "      <td>NaN</td>\n",
       "      <td>Fujii</td>\n",
       "      <td>Yasuko</td>\n",
       "      <td>NaN</td>\n",
       "      <td>3/7/44</td>\n",
       "      <td>1944</td>\n",
       "    </tr>\n",
       "    <tr>\n",
       "      <th>112</th>\n",
       "      <td>Box9-0196.jpg</td>\n",
       "      <td>Y</td>\n",
       "      <td>NaN</td>\n",
       "      <td>NaN</td>\n",
       "      <td>NaN</td>\n",
       "      <td>3/11/44</td>\n",
       "      <td>1944</td>\n",
       "    </tr>\n",
       "  </tbody>\n",
       "</table>\n",
       "</div>"
      ],
      "text/plain": [
       "             Box # Not Inmate Last Name First Name Other Name     Date  Year\n",
       "110  Box9-1021.jpg        NaN     Fujii     Biichi        NaN   3/7/44  1944\n",
       "111  Box9-1053.jpg        NaN     Fujii     Yasuko        NaN   3/7/44  1944\n",
       "112  Box9-0196.jpg          Y       NaN        NaN        NaN  3/11/44  1944"
      ]
     },
     "execution_count": 8,
     "metadata": {},
     "output_type": "execute_result"
    }
   ],
   "source": [
    "data_Card.tail(3)  # tail(3) is the opposite of head(3) and shows the last 3 rows"
   ]
  },
  {
   "cell_type": "markdown",
   "metadata": {},
   "source": [
    "### **Student Activity**: Dataset Exploration (Incident Cards)\n",
    "In order to further explore the dataset in depth, we may rely on Pandas functions and raw row data to discover the following information:\n",
    "\n",
    "* variable names\n",
    "* number of rows\n",
    "* number of missing values per variable\n",
    "* numeric variables: mean, max, min\n",
    "* categoric variables: levels, count\n",
    "* check for duplicate columns\n",
    "\n",
    "**Activity**: Explore this dataset using Pandas data frame functions and identify the information above. Record what you discover in the Markdown cell below."
   ]
  },
  {
   "cell_type": "code",
   "execution_count": 9,
   "metadata": {},
   "outputs": [],
   "source": [
    "# Add your code here and create more cells if needed..\n"
   ]
  },
  {
   "cell_type": "markdown",
   "metadata": {},
   "source": [
    "### My Dataset Notes (Incident Cards)\n",
    "\n",
    "(This area provided for you to record your own notes on the dataset.)"
   ]
  }
 ],
 "metadata": {
  "kernelspec": {
   "display_name": "Python 3",
   "language": "python",
   "name": "python3"
  },
  "language_info": {
   "codemirror_mode": {
    "name": "ipython",
    "version": 3
   },
   "file_extension": ".py",
   "mimetype": "text/x-python",
   "name": "python",
   "nbconvert_exporter": "python",
   "pygments_lexer": "ipython3",
   "version": "3.6.5"
  }
 },
 "nbformat": 4,
 "nbformat_minor": 2
}
